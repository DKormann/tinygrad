{
 "cells": [
  {
   "cell_type": "code",
   "execution_count": 2,
   "metadata": {},
   "outputs": [],
   "source": [
    "import torch\n",
    "import string\n",
    "import matplotlib.pyplot as plt\n",
    "import numpy as np"
   ]
  },
  {
   "cell_type": "code",
   "execution_count": 3,
   "metadata": {},
   "outputs": [
    {
     "name": "stderr",
     "output_type": "stream",
     "text": [
      "ram used:  0.18 GB, joint.l2.bias                                     : 100%|██████████| 33/33 [00:00<00:00, 617.12it/s]\n"
     ]
    },
    {
     "name": "stdout",
     "output_type": "stream",
     "text": [
      "loaded weights in  65.04 ms, 0.18 GB loaded at 2.79 GB/s\n"
     ]
    },
    {
     "name": "stderr",
     "output_type": "stream",
     "text": [
      "ram used:  0.36 GB, joint.l2.bias                                     : 100%|██████████| 33/33 [00:00<00:00, 1103.60it/s]\n"
     ]
    },
    {
     "name": "stdout",
     "output_type": "stream",
     "text": [
      "loaded weights in  31.64 ms, 0.18 GB loaded at 5.72 GB/s\n"
     ]
    }
   ],
   "source": [
    "from train import TransducerLoss, unshear, shear, logsumexp, inf, mask\n",
    "import tinygrad\n",
    "from tinygrad.dtype import dtypes\n",
    "from tinygrad import Tensor\n",
    "from tinygrad.tensor import Function\n",
    "from utils import imshow"
   ]
  },
  {
   "cell_type": "code",
   "execution_count": 4,
   "metadata": {},
   "outputs": [],
   "source": [
    "NULL_INDEX = -1\n",
    "VOCAB_SIZE = len(string.ascii_lowercase) + 2\n",
    "np.random.seed(0)\n",
    "maxX = 10\n",
    "maxY = 12\n",
    "BS = 2\n",
    "np_d = np.random.rand(BS, maxX, maxY+1, VOCAB_SIZE+1)\n",
    "# np_y = np.random.randint(0, VOCAB_SIZE, (BS, maxY), dtype=np.int64)\n",
    "np_y = np.zeros((BS, maxY), dtype=np.int64)\n",
    "\n",
    "T = [maxX,maxX - 3]\n",
    "U = [maxY,maxY - 3]\n"
   ]
  },
  {
   "cell_type": "markdown",
   "metadata": {},
   "source": [
    "### torch model"
   ]
  },
  {
   "cell_type": "code",
   "execution_count": 5,
   "metadata": {},
   "outputs": [
    {
     "data": {
      "image/png": "[encoded data removed]",
      "text/plain": [
       "<Figure size 640x480 with 1 Axes>"
      ]
     },
     "metadata": {},
     "output_type": "display_data"
    },
    {
     "data": {
      "image/png": "[encoded data removed]",
      "text/plain": [
       "<Figure size 640x480 with 1 Axes>"
      ]
     },
     "metadata": {},
     "output_type": "display_data"
    },
    {
     "data": {
      "text/plain": [
       "tensor([-61.8367, -44.7189], grad_fn=<StackBackward0>)"
      ]
     },
     "execution_count": 5,
     "metadata": {},
     "output_type": "execute_result"
    }
   ],
   "source": [
    "#torch\n",
    "def compute_forward_prob(joiner_out, T, U, y):\n",
    "  \"\"\"\n",
    "  joiner_out: tensor of shape (B, T_max, U_max+1, #labels)\n",
    "  T: list of input lengths\n",
    "  U: list of output lengths \n",
    "  y: label tensor (B, U_max+1)\n",
    "  \"\"\"\n",
    "  B = joiner_out.shape[0]\n",
    "  T_max = joiner_out.shape[1]\n",
    "  U_max = joiner_out.shape[2] - 1\n",
    "  log_alpha = torch.zeros(B, T_max, U_max+1)\n",
    "  for t in range(T_max):\n",
    "    for u in range(U_max+1):\n",
    "      if u == 0:\n",
    "        if t == 0:\n",
    "          log_alpha[:, t, u] = 0.\n",
    "\n",
    "        else: #t > 0\n",
    "          log_alpha[:, t, u] = log_alpha[:, t-1, u] + joiner_out[:, t-1, 0, NULL_INDEX] \n",
    "              \n",
    "      else: #u > 0\n",
    "        if t == 0:\n",
    "          log_alpha[:, t, u] = log_alpha[:, t,u-1] + torch.gather(joiner_out[:, t, u-1], dim=1, index=y[:,u-1].view(-1,1) ).reshape(-1)\n",
    "        \n",
    "        else: #t > 0\n",
    "          log_alpha[:, t, u] = torch.logsumexp(torch.stack([\n",
    "              log_alpha[:, t-1, u] + joiner_out[:, t-1, u, NULL_INDEX],\n",
    "              log_alpha[:, t, u-1] + torch.gather(joiner_out[:, t, u-1], dim=1, index=y[:,u-1].view(-1,1) ).reshape(-1)\n",
    "          ]), dim=0)\n",
    "  \n",
    "  log_probs = []\n",
    "  for b in range(B):\n",
    "    log_prob = log_alpha[b, T[b]-1, U[b]] + joiner_out[b, T[b]-1, U[b], NULL_INDEX]\n",
    "    log_probs.append(log_prob)\n",
    "  log_probs = torch.stack(log_probs) \n",
    "  return log_probs, log_alpha\n",
    "torch_d = torch.Tensor(np_d).softmax(-1)\n",
    "torch_d.requires_grad = True\n",
    "\n",
    "y = torch.Tensor(np_y).long()\n",
    "torch_loss,alpha = compute_forward_prob(torch_d.log(), T, U, y)\n",
    "\n",
    "plt.imshow(alpha[0].detach())\n",
    "plt.show()\n",
    "alpha.retain_grad()\n",
    "torch_loss.retain_grad()\n",
    "(torch_loss.sum()).backward()\n",
    "\n",
    "plt.imshow(torch_d.grad[0,:,:,-1])\n",
    "plt.show()\n",
    "torch_loss"
   ]
  },
  {
   "cell_type": "markdown",
   "metadata": {},
   "source": [
    "### tinygrad model"
   ]
  },
  {
   "cell_type": "code",
   "execution_count": 6,
   "metadata": {},
   "outputs": [],
   "source": [
    "def stack(X):\n",
    "    R = X[0].unsqueeze(1)\n",
    "    for x in X[1:]:\n",
    "        R = R.cat(x.unsqueeze(1), dim=1).realize()\n",
    "    return unshear(R.transpose(1,2)).transpose(1,2)\n",
    "\n",
    "def analysis():\n",
    "    global A, B, AB, skip, p\n",
    "    A = stack(ctx.a).realize()\n",
    "    B = stack(ctx.b).realize()\n",
    "    AB = A[0] + B[0]\n",
    "    AB = AB - AB.max()\n",
    "    skip = unshear(ctx.skip.transpose(1,2)).transpose(1,2).realize()\n",
    "    p = unshear(ctx.p.transpose(1,2)).transpose(1,2).realize()"
   ]
  },
  {
   "cell_type": "code",
   "execution_count": 7,
   "metadata": {},
   "outputs": [],
   "source": [
    "\n",
    "class TransducerLoss(Function):\n",
    "\n",
    "  def forward(self, d:Tensor, labels:Tensor):\n",
    "    self.BS,self.X,self.Y,self.C = d.shape\n",
    "\n",
    "    self.labels = Tensor(labels).pad(((0,0),(0,1)))\n",
    "    self.lattice = shear(Tensor(d), 0.)\n",
    "    self.X = self.X+self.Y-1\n",
    "    assert self.lattice.shape == (self.BS,self.X,self.Y,self.C), f\"{self.lattice.shape}\"\n",
    "\n",
    "    self.skip = shear(Tensor(d)[:,:,:,-1:],1.)[:,:,:,0].log()\n",
    "\n",
    "    self.p = self.lattice[\n",
    "      Tensor(np.arange(self.BS).reshape((-1,1,1))),\n",
    "      Tensor(np.arange(self.X).reshape((1,-1,1))),\n",
    "      Tensor(np.arange(self.Y).reshape((1,1,-1))),\n",
    "      self.labels.reshape((self.BS,1,-1))].log()\n",
    "\n",
    "    assert self.p.shape == (self.BS, self.X, self.Y)\n",
    "    self.a = [Tensor([0]*self.BS).reshape(-1,1).pad(((0,0),(0,self.Y-1),),-inf).realize()]\n",
    "\n",
    "    for x in range(0,self.X-1):\n",
    "      self.a.append(logsumexp(\n",
    "        (self.a[-1] + self.skip[:,x,:]).realize(),\n",
    "        (\n",
    "          self.a[-1][:,:-1].pad(((0,0),(1,0),),-inf).realize() + self.p[:,x,:-1].pad(((0,0),(1,0),),-inf)\n",
    "        ).realize()\n",
    "      ))\n",
    "\n",
    "    return (-self.a[-1].max(1).sum()).lazydata\n",
    "    \n",
    "  def backward(self, g):\n",
    "\n",
    "    self.b = [None] * (self.X-1) + [Tensor.ones(self.BS,self.Y)]\n",
    "    for x in range(self.X-2,-1,-1):\n",
    "      self.b[x] = (\n",
    "        logsumexp(\n",
    "          self.b[x+1] + self.skip[:,x,:],\n",
    "          self.b[x+1][:,1:].pad(((0,0),(0,1),),-inf).realize() + self.p[:,x,:].realize()\n",
    "        )).realize()\n",
    "\n",
    "    self.skg, self.p_grad = None, None\n",
    "\n",
    "    for a,b in zip(self.a[:-1], self.b[1:]):\n",
    "      sg = (a + b).reshape(self.BS, 1,-1)\n",
    "      self.skg = sg if self.skg is None else self.skg.cat(sg,dim=1).realize()\n",
    "      pg = a.unsqueeze(1) + b[:,1:].pad(((0,0),(0,1),),-inf).unsqueeze(1)\n",
    "      self.p_grad = pg if self.p_grad is None else self.p_grad.cat(pg,dim=1).realize()\n",
    "    \n",
    "    self.skg = (unshear(self.skg.transpose(1,2)) - self.b[0][:,0].unsqueeze(1).unsqueeze(1)).transpose(1,2).exp().realize()\n",
    "    self.p_grad = (unshear(self.p_grad.transpose(1,2))).transpose(1,2).realize() - self.b[0][:,0].unsqueeze(1).unsqueeze(1)\n",
    "\n",
    "    self.p_grad = self.p_grad.exp().unsqueeze(-1).mul(Tensor.eye(self.C-1)[self.labels].unsqueeze(1))\n",
    "    grad = self.p_grad.cat(self.skg.unsqueeze(-1), dim=-1).pad(((0,0),(0,1),(0,0),(0,0)))\n",
    "\n",
    "    return (-grad).lazydata, None\n",
    "\n",
    "tiny_d = tinygrad.Tensor(np_d, requires_grad=True, dtype=dtypes.float).softmax(-1)\n",
    "tiny_masked_d = mask(tiny_d, tinygrad.Tensor(T), tinygrad.Tensor(U),maxX,maxY)\n",
    "tiny_y = tinygrad.Tensor(np_y, requires_grad=False, dtype=dtypes.int)\n",
    "L = TransducerLoss.apply(tiny_masked_d,tiny_y)\n",
    "ctx = L._ctx\n",
    "L.backward()\n",
    "L.numpy()\n",
    "analysis()"
   ]
  },
  {
   "cell_type": "code",
   "execution_count": 8,
   "metadata": {},
   "outputs": [
    {
     "data": {
      "text/plain": [
       "array([[  0.       ,  -3.4432669,  -6.885416 , -10.2300205, -14.04884  ,\n",
       "        -17.130007 , -20.352547 , -23.432203 , -27.170334 , -30.518944 ],\n",
       "       [ -3.470232 ,  -6.0249853,  -9.0918255, -12.343253 , -15.795076 ,\n",
       "        -19.102194 , -22.60842  , -26.071495 , -29.464403 , -32.66238  ],\n",
       "       [ -6.9761925,  -9.083638 , -11.528527 , -14.556755 , -18.02709  ,\n",
       "        -20.791246 , -24.062757 , -27.026957 , -30.408558 , -33.315346 ],\n",
       "       [-10.083391 , -12.12846  , -14.445574 , -17.031837 , -19.929716 ,\n",
       "        -23.181038 , -26.011057 , -28.856197 , -31.97736  , -35.052765 ],\n",
       "       [-13.330563 , -14.89034  , -17.382233 , -19.99925  , -22.501871 ,\n",
       "        -25.295643 , -28.366392 , -31.115198 , -34.178577 , -37.294758 ],\n",
       "       [-16.596333 , -18.376287 , -20.77765  , -22.887959 , -25.591965 ,\n",
       "        -27.928421 , -30.889193 , -34.068134 , -36.697926 , -39.421387 ],\n",
       "       [-20.27086  , -21.84678  , -24.344769 , -25.800253 , -28.58327  ,\n",
       "        -30.908514 , -33.677975 , -36.592888 , -39.257767 , -42.16134  ],\n",
       "       [-23.685371 , -25.42113  , -27.455112 , -28.793522 , -31.586887 ,\n",
       "        -33.644844 , -36.122906 , -39.182648 , -41.670162 , -44.266823 ],\n",
       "       [-27.2107   , -28.874044 , -30.87768  , -31.633894 , -34.03068  ,\n",
       "        -36.180935 , -38.739677 , -41.835827 , -44.770233 , -47.21554  ],\n",
       "       [-30.864607 , -32.346405 , -34.234257 , -35.06701  , -36.947132 ,\n",
       "        -39.42769  , -41.634567 , -43.99611  , -47.30852  , -50.248886 ]],\n",
       "      dtype=float32)"
      ]
     },
     "execution_count": 8,
     "metadata": {},
     "output_type": "execute_result"
    }
   ],
   "source": [
    "A.numpy()[0,:10,:10]"
   ]
  },
  {
   "cell_type": "code",
   "execution_count": 9,
   "metadata": {},
   "outputs": [
    {
     "data": {
      "text/plain": [
       "array([[  0.       ,  -3.4432669,  -6.885416 , -10.2300205, -14.04884  ,\n",
       "        -17.130007 , -20.352547 , -23.432203 , -27.170334 , -30.518944 ],\n",
       "       [ -3.470232 ,  -6.0249853,  -9.0918255, -12.343253 , -15.795076 ,\n",
       "        -19.102194 , -22.60842  , -26.071495 , -29.464403 , -32.66238  ],\n",
       "       [ -6.9761925,  -9.083638 , -11.528527 , -14.556755 , -18.02709  ,\n",
       "        -20.791246 , -24.062757 , -27.026957 , -30.408558 , -33.315346 ],\n",
       "       [-10.083391 , -12.12846  , -14.445574 , -17.031837 , -19.929716 ,\n",
       "        -23.181038 , -26.011057 , -28.856197 , -31.97736  , -35.052765 ],\n",
       "       [-13.330563 , -14.89034  , -17.382233 , -19.99925  , -22.501871 ,\n",
       "        -25.295643 , -28.366392 , -31.115198 , -34.178577 , -37.294758 ],\n",
       "       [-16.596333 , -18.376287 , -20.77765  , -22.887959 , -25.591967 ,\n",
       "        -27.928423 , -30.889194 , -34.068134 , -36.697926 , -39.421387 ],\n",
       "       [-20.27086  , -21.84678  , -24.344769 , -25.800253 , -28.583271 ,\n",
       "        -30.908516 , -33.67798  , -36.592888 , -39.257767 , -42.16134  ],\n",
       "       [-23.685371 , -25.42113  , -27.455112 , -28.793522 , -31.586887 ,\n",
       "        -33.644848 , -36.12291  , -39.18265  , -41.670162 , -44.266823 ],\n",
       "       [-27.2107   , -28.874044 , -30.87768  , -31.633894 , -34.03068  ,\n",
       "        -36.180935 , -38.73968  , -41.835835 , -44.770237 , -47.215546 ],\n",
       "       [-30.864607 , -32.346405 , -34.234257 , -35.06701  , -36.947132 ,\n",
       "        -39.42769  , -41.63457  , -43.996117 , -47.30853  , -50.248894 ]],\n",
       "      dtype=float32)"
      ]
     },
     "execution_count": 9,
     "metadata": {},
     "output_type": "execute_result"
    }
   ],
   "source": [
    "alpha.detach().numpy()[0,:10,:10]"
   ]
  },
  {
   "cell_type": "code",
   "execution_count": 13,
   "metadata": {},
   "outputs": [
    {
     "data": {
      "text/plain": [
       "array([[1.74961929e+01, 7.97964287e+00, 3.56664610e+00, 1.99101460e+00,\n",
       "        6.14948809e-01, 4.34167475e-01, 2.56130219e-01, 9.63766128e-02,\n",
       "        2.17967331e-02, 1.07900174e-02],\n",
       "       [5.26216936e+00, 9.24175739e+00, 5.22799635e+00, 3.44640493e+00,\n",
       "        2.00747108e+00, 9.06265616e-01, 4.83429343e-01, 1.49318397e-01,\n",
       "        5.98739460e-02, 2.50106212e-02],\n",
       "       [1.52423358e+00, 4.90148067e+00, 7.55432320e+00, 6.83039522e+00,\n",
       "        3.09769225e+00, 3.68203974e+00, 1.73709154e+00, 1.13893712e+00,\n",
       "        5.21500707e-01, 2.29328066e-01],\n",
       "       [5.85915267e-01, 1.33170760e+00, 2.21861863e+00, 5.57264996e+00,\n",
       "        5.31968451e+00, 3.79864979e+00, 3.65959573e+00, 3.15624166e+00,\n",
       "        2.17828584e+00, 1.05242300e+00],\n",
       "       [8.69041681e-02, 6.41965449e-01, 1.49377215e+00, 2.23314476e+00,\n",
       "        4.09100437e+00, 4.74601221e+00, 3.79470634e+00, 6.90322828e+00,\n",
       "        4.40865755e+00, 1.87655890e+00],\n",
       "       [3.21551561e-02, 1.08442597e-01, 3.54405701e-01, 8.17866802e-01,\n",
       "        1.69141185e+00, 4.23573875e+00, 4.11783123e+00, 3.93564606e+00,\n",
       "        5.59171200e+00, 5.51204252e+00],\n",
       "       [5.27613657e-03, 4.05203626e-02, 7.07634240e-02, 3.71367663e-01,\n",
       "        4.49427754e-01, 1.40486121e+00, 1.94416261e+00, 2.66377950e+00,\n",
       "        3.88328433e+00, 3.03758025e+00],\n",
       "       [1.10581983e-03, 5.70103154e-03, 2.04309616e-02, 1.09311864e-01,\n",
       "        1.11026868e-01, 3.28260601e-01, 9.85797167e-01, 1.41470838e+00,\n",
       "        4.86527681e+00, 7.16744184e+00],\n",
       "       [4.67423561e-05, 2.36955704e-04, 7.48700462e-04, 1.35954702e-02,\n",
       "        2.37280224e-02, 8.05018544e-02, 2.40615442e-01, 2.08523706e-01,\n",
       "        4.91826057e-01, 1.67819846e+00],\n",
       "       [0.00000000e+00, 0.00000000e+00, 0.00000000e+00, 0.00000000e+00,\n",
       "        0.00000000e+00, 0.00000000e+00, 0.00000000e+00, 0.00000000e+00,\n",
       "        0.00000000e+00, 0.00000000e+00]], dtype=float32)"
      ]
     },
     "execution_count": 13,
     "metadata": {},
     "output_type": "execute_result"
    }
   ],
   "source": [
    "torch_d.grad.numpy()[0,:10,:10,-1]"
   ]
  },
  {
   "cell_type": "code",
   "execution_count": 15,
   "metadata": {},
   "outputs": [
    {
     "data": {
      "text/plain": [
       "array([[-1.74961414e+01, -7.97960520e+00, -3.56663179e+00,\n",
       "        -1.99101460e+00, -6.14947975e-01, -4.34166253e-01,\n",
       "        -2.56130487e-01, -9.63765085e-02, -2.17967071e-02,\n",
       "        -1.07899867e-02],\n",
       "       [-5.26213932e+00, -9.24172115e+00, -5.22796535e+00,\n",
       "        -3.44639063e+00, -2.00747252e+00, -9.06261981e-01,\n",
       "        -4.83428180e-01, -1.49318099e-01, -5.98739609e-02,\n",
       "        -2.50106435e-02],\n",
       "       [-1.52422476e+00, -4.90146780e+00, -7.55430508e+00,\n",
       "        -6.83037138e+00, -3.09767985e+00, -3.68203950e+00,\n",
       "        -1.73708403e+00, -1.13892949e+00, -5.21499574e-01,\n",
       "        -2.29327798e-01],\n",
       "       [-5.85912943e-01, -1.33170092e+00, -2.21861386e+00,\n",
       "        -5.57261753e+00, -5.31966066e+00, -3.79863000e+00,\n",
       "        -3.65957856e+00, -3.15623450e+00, -2.17827630e+00,\n",
       "        -1.05241776e+00],\n",
       "       [-8.69039893e-02, -6.41964614e-01, -1.49376881e+00,\n",
       "        -2.23313355e+00, -4.09100485e+00, -4.74599266e+00,\n",
       "        -3.79470491e+00, -6.90321827e+00, -4.40863991e+00,\n",
       "        -1.87655282e+00],\n",
       "       [-3.21550071e-02, -1.08442545e-01, -3.54404837e-01,\n",
       "        -8.17862272e-01, -1.69140959e+00, -4.23573828e+00,\n",
       "        -4.11784077e+00, -3.93563151e+00, -5.59169769e+00,\n",
       "        -5.51204586e+00],\n",
       "       [-5.27610164e-03, -4.05201651e-02, -7.07630366e-02,\n",
       "        -3.71364892e-01, -4.49426979e-01, -1.40485668e+00,\n",
       "        -1.94416595e+00, -2.66376376e+00, -3.88328648e+00,\n",
       "        -3.03757977e+00],\n",
       "       [-1.10581296e-03, -5.70099754e-03, -2.04308573e-02,\n",
       "        -1.09311417e-01, -1.11026049e-01, -3.28260124e-01,\n",
       "        -9.85796690e-01, -1.41470349e+00, -4.86525440e+00,\n",
       "        -7.16740274e+00],\n",
       "       [-4.67421778e-05, -2.36954802e-04, -7.48698425e-04,\n",
       "        -1.35954581e-02, -2.37278920e-02, -8.05016309e-02,\n",
       "        -2.40615100e-01, -2.08523557e-01, -4.91824687e-01,\n",
       "        -1.67818928e+00],\n",
       "       [-0.00000000e+00, -0.00000000e+00, -0.00000000e+00,\n",
       "        -0.00000000e+00, -0.00000000e+00, -0.00000000e+00,\n",
       "        -0.00000000e+00, -0.00000000e+00, -0.00000000e+00,\n",
       "        -0.00000000e+00]], dtype=float32)"
      ]
     },
     "execution_count": 15,
     "metadata": {},
     "output_type": "execute_result"
    }
   ],
   "source": [
    "tiny_d.grad.numpy()[0,:10,:10,-1]"
   ]
  }
 ],
 "metadata": {
  "kernelspec": {
   "display_name": "develop",
   "language": "python",
   "name": "python3"
  },
  "language_info": {
   "codemirror_mode": {
    "name": "ipython",
    "version": 3
   },
   "file_extension": ".py",
   "mimetype": "text/x-python",
   "name": "python",
   "nbconvert_exporter": "python",
   "pygments_lexer": "ipython3",
   "version": "3.11.5"
  }
 },
 "nbformat": 4,
 "nbformat_minor": 2
}
