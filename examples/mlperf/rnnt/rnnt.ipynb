{
 "cells": [
  {
   "cell_type": "code",
   "execution_count": 1,
   "metadata": {},
   "outputs": [],
   "source": [
    "from tinygrad.graph import print_tree\n",
    "from tinygrad.helpers import dtypes\n",
    "from tinygrad.jit import TinyJit\n",
    "from tinygrad.nn import Linear, Embedding\n",
    "from tinygrad.nn.optim import Adam\n",
    "from tinygrad.nn.state import get_parameters\n",
    "from tinygrad.ops  import ConstBuffer, UnaryOps, LoadOps\n",
    "from tinygrad.tensor import Tensor, Function\n",
    "from tinygrad.lazy import LazyBuffer\n",
    "from tinygrad.shape.shapetracker import ShapeTracker\n",
    "\n",
    "from matplotlib import pyplot as plt\n",
    "import numpy as np"
   ]
  },
  {
   "cell_type": "code",
   "execution_count": 2,
   "metadata": {},
   "outputs": [],
   "source": [
    "X,Y,B,C = 20,22,5,6\n",
    "labels = Tensor(np.random.randint(0,C,size=(B,Y)))"
   ]
  },
  {
   "cell_type": "code",
   "execution_count": 3,
   "metadata": {},
   "outputs": [],
   "source": [
    "def imshow(x):\n",
    "    if isinstance(x,Tensor): x = x.numpy()\n",
    "    while len(x.shape) > 2: x = x[:,:,0]\n",
    "    plt.imshow(x[:,:])\n",
    "    plt.show()"
   ]
  },
  {
   "cell_type": "code",
   "execution_count": 58,
   "metadata": {},
   "outputs": [],
   "source": [
    "class Model:\n",
    "    def __init__(self, C:int,hdim = 10):\n",
    "        self.C = C\n",
    "        self.hdim = hdim\n",
    "        self.input_emb = Embedding(C,hdim)   \n",
    "        self.out_emb = Embedding(C,hdim)\n",
    "        self.lin = Linear(hdim*2, C+1)\n",
    "\n",
    "    def distribution(self, labels):\n",
    "        B,N = labels.shape\n",
    "        X = self.input_emb( labels)\n",
    "        Y = self.out_emb (labels.pad(((0,0),(1,0))))\n",
    "\n",
    "        d = Tensor.cat(X.unsqueeze(2).expand((-1,-1,N+1,-1)), Y.unsqueeze(1).expand((-1,N,-1,-1)),dim=-1)\n",
    "        d = self.lin(d)\n",
    "        return d"
   ]
  },
  {
   "cell_type": "code",
   "execution_count": 59,
   "metadata": {},
   "outputs": [],
   "source": [
    "def logsumexp(a:Tensor, b:Tensor):\n",
    "    mx = Tensor.maximum(a,b).maximum(-1e10)\n",
    "    s = (a-mx).exp() + (b-mx).exp()\n",
    "    return s.log() + mx\n",
    "inf = float('inf')\n",
    "\n",
    "def shear(d:Tensor,value = 0):\n",
    "    B,X,Y,C = d.shape\n",
    "    d = d.pad(((0,0),(0,Y),(0,0),(0,0)),value=value)\n",
    "    d = d.transpose(1,2).reshape((B,-1,C))\n",
    "    d = d[:,:(X+Y-1)*Y,:].realize()\n",
    "    return d.reshape((B,Y,X+Y-1,C)).transpose(1,2)\n",
    "\n",
    "def unshear(x:Tensor):\n",
    "    B,X,Y = x.shape\n",
    "    x = x.reshape((B,-1,))\n",
    "    x = x.pad(((0,0),(0,X),))\n",
    "    x = x.reshape((B,X,Y+1))\n",
    "    return x.shrink(((0,B),(0,X),(0,Y+1-X)))\n",
    "\n",
    "class TransducerLoss(Function):\n",
    "\n",
    "    def forward(self, d:Tensor, labels:Tensor):\n",
    "        self.B,self.X,self.Y,self.C = d.shape\n",
    "\n",
    "        self.labels = Tensor(labels).pad(((0,0),(0,1)))\n",
    "        self.lattice = shear(Tensor(d))\n",
    "        self.X = self.X+self.Y-1\n",
    "        assert self.lattice.shape == (self.B,self.X,self.Y,self.C), f\"{self.lattice.shape}\"\n",
    "\n",
    "        self.skip = self.lattice[:,:,:,-1].log()\n",
    "        self.p = self.lattice[\n",
    "            Tensor(np.arange(self.B).reshape((-1,1,1))),\n",
    "            Tensor(np.arange(self.X).reshape((1,-1,1))),\n",
    "            Tensor(np.arange(self.Y).reshape((1,1,-1))),\n",
    "            self.labels.reshape((self.B,1,-1))].log()\n",
    "\n",
    "        assert self.p.shape == (self.B, self.X, self.Y)\n",
    "        self.a = [Tensor([0]*self.B).reshape(-1,1).pad(((0,0),(0,self.Y-1),),-inf).realize()]\n",
    "\n",
    "        for x in range(0,self.X-1):\n",
    "            self.a.append(logsumexp((self.a[-1] + self.skip[:,x,:]).realize(), (self.a[-1][:,:-1].pad(((0,0),(1,0),),-inf).realize() + self.p[:,x,:-1].pad(((0,0),(1,0),),-inf)).realize()))\n",
    "\n",
    "        return (-self.a[-1][:,-1] - self.skip[:,-1,-1]).sum().lazydata\n",
    "    \n",
    "    def backward(self, g):\n",
    "\n",
    "        self.b = [None] * (self.X-1) + [Tensor.ones(self.B,self.Y)]\n",
    "        for x in range(self.X-2,-1,-1):\n",
    "            self.b[x] = (\n",
    "                logsumexp(\n",
    "                self.b[x+1] + self.skip[:,x,:],\n",
    "                self.b[x+1][:,1:].pad(((0,0),(0,1),),-inf).realize() + self.p[:,x,:].realize()\n",
    "             )).realize()\n",
    "\n",
    "        self.skg, self.p_grad = None, None\n",
    "\n",
    "        for a,b in zip(self.a[:-1], self.b[1:]):\n",
    "            sg = (a + b).reshape(self.B, 1,-1)\n",
    "            self.skg = sg if self.skg is None else self.skg.cat(sg,dim=1).realize()\n",
    "            pg = a.unsqueeze(1) + b[:,1:].pad(((0,0),(0,1),),-inf).unsqueeze(1)\n",
    "            self.p_grad = pg if self.p_grad is None else self.p_grad.cat(pg,dim=1).realize()\n",
    "\n",
    "        self.skg = (unshear(Tensor.cat(self.skg,(self.a[-1] + self.b[-1]).reshape(self.B, 1,-1),dim=1).realize().transpose(1,2)) - self.b[0][:,0].unsqueeze(1).unsqueeze(1)).exp().realize()\n",
    "        self.p_grad = (unshear(self.p_grad.pad(((0,0),(0,1),(0,0))).transpose(1,2)) +Tensor([1]*(self.Y-1) + [-inf]).unsqueeze(-1) - self.b[0][:,0].realize().unsqueeze(1).unsqueeze(1)).exp().realize()\n",
    "        self.p_grad = self.p_grad.unsqueeze(-1).mul(Tensor.eye(self.C-1)[self.labels].unsqueeze(2))\n",
    "\n",
    "        return (-Tensor.cat(self.p_grad,self.skg.unsqueeze(-1), dim=-1)).transpose(1,2).realize().lazydata,None"
   ]
  },
  {
   "cell_type": "code",
   "execution_count": 60,
   "metadata": {},
   "outputs": [],
   "source": [
    "def setup():\n",
    "    global model,opt\n",
    "    model = Model(C)\n",
    "    opt = Adam(get_parameters(model))\n",
    "setup()"
   ]
  },
  {
   "cell_type": "code",
   "execution_count": 61,
   "metadata": {},
   "outputs": [],
   "source": [
    "def merge(x):\n",
    "    m = None\n",
    "    for e in x:\n",
    "        e = e.unsqueeze(1)\n",
    "        m = e if m is None else Tensor.cat(m,e,dim=1)\n",
    "    return unshear(m.transpose(1,2)).transpose(1,2)"
   ]
  },
  {
   "cell_type": "code",
   "execution_count": 62,
   "metadata": {},
   "outputs": [],
   "source": [
    "def analyse():\n",
    "    d = model.distribution(labels)\n",
    "    imshow(d[0])\n",
    "    opt.zero_grad()\n",
    "    l = TransducerLoss.apply(d.softmax(-1),labels)\n",
    "    ctx = l._ctx\n",
    "    l.backward()\n",
    "    imshow(d.grad[0])\n",
    "    a = merge(ctx.a)\n",
    "    b = merge(ctx.b)\n",
    "    imshow((a[0]+b[0]-a[0].max()).exp())"
   ]
  },
  {
   "cell_type": "code",
   "execution_count": 63,
   "metadata": {},
   "outputs": [],
   "source": [
    "@TinyJit\n",
    "def step(model,labels):\n",
    "    d = model.distribution(labels)\n",
    "    L = TransducerLoss.apply(d.softmax(-1),labels)\n",
    "    opt.zero_grad()\n",
    "    L.backward()\n",
    "    opt.step()\n",
    "    return L.realize(), d.realize()"
   ]
  },
  {
   "cell_type": "code",
   "execution_count": 64,
   "metadata": {},
   "outputs": [],
   "source": [
    "# for i in range(10):\n",
    "#     for i in range(10):\n",
    "#         labels = Tensor(np.random.randint(0,C,size=(B,Y)))\n",
    "#         l,d = step(model,labels)\n",
    "#     print(l.numpy())"
   ]
  },
  {
   "cell_type": "code",
   "execution_count": 65,
   "metadata": {},
   "outputs": [
    {
     "data": {
      "image/png": "[encoded data removed]",
      "text/plain": [
       "<Figure size 640x480 with 1 Axes>"
      ]
     },
     "metadata": {},
     "output_type": "display_data"
    },
    {
     "data": {
      "image/png": "[encoded data removed]",
      "text/plain": [
       "<Figure size 640x480 with 1 Axes>"
      ]
     },
     "metadata": {},
     "output_type": "display_data"
    },
    {
     "data": {
      "image/png": "[encoded data removed]",
      "text/plain": [
       "<Figure size 640x480 with 1 Axes>"
      ]
     },
     "metadata": {},
     "output_type": "display_data"
    }
   ],
   "source": [
    "analyse()"
   ]
  },
  {
   "cell_type": "markdown",
   "metadata": {},
   "source": [
    "## LSTM"
   ]
  },
  {
   "cell_type": "code",
   "execution_count": 4,
   "metadata": {},
   "outputs": [],
   "source": [
    "from extra.models.rnnt import RNNT, LSTM\n",
    "from tinygrad.nn import Linear, Embedding\n",
    "from temp.lstm import LSTM\n",
    "from tinygrad.helpers import Timing"
   ]
  },
  {
   "cell_type": "code",
   "execution_count": 5,
   "metadata": {},
   "outputs": [],
   "source": [
    "emb = Embedding(C,10)\n",
    "H = 100\n",
    "\n",
    "class RNN:\n",
    "    def __init__(self,dim:int):\n",
    "        self.dim = dim\n",
    "        self.layers = [\n",
    "            LSTM(dim,H,1,0),\n",
    "            LSTM(H,H,10,0),\n",
    "            LSTM(H,dim,1,0)]\n",
    "\n",
    "    def __call__(self,x:Tensor):\n",
    "        for l in self.layers:\n",
    "            x,_ = l(x,None)\n",
    "        return x\n",
    "\n",
    "rnn = RNN(10)\n",
    "opt = Adam(get_parameters(rnn))"
   ]
  },
  {
   "cell_type": "code",
   "execution_count": 68,
   "metadata": {},
   "outputs": [],
   "source": [
    "x = emb(labels)\n",
    "# x = Tensor.uniform(20,4,10)\n",
    "y = x[:,  1:].contiguous().realize()\n",
    "x = x[:, :-1].contiguous().realize()"
   ]
  },
  {
   "cell_type": "code",
   "execution_count": 69,
   "metadata": {},
   "outputs": [],
   "source": [
    "@TinyJit\n",
    "def rnn_step(rnn,x,y):\n",
    "    p = rnn(x.T)\n",
    "    # loss = Tensor.sparse_categorical_crossentropy(p.T,y)\n",
    "    loss = (p.T-y).square().mean()\n",
    "    opt.zero_grad()\n",
    "    loss.backward()\n",
    "    opt.step()\n",
    "    return loss.realize(),p.realize()"
   ]
  },
  {
   "cell_type": "code",
   "execution_count": 70,
   "metadata": {},
   "outputs": [],
   "source": [
    "# with Timing(\"all: \"):\n",
    "#     for i in range (500):\n",
    "#         l,p = rnn_step(rnn,x,y)\n",
    "#         if (i+1)%10==0:\n",
    "#             print(f\"\\r {i}\",l.numpy(),end=\"\")\n",
    "#     print()"
   ]
  },
  {
   "cell_type": "markdown",
   "metadata": {},
   "source": [
    "## RNNT"
   ]
  },
  {
   "cell_type": "code",
   "execution_count": 71,
   "metadata": {},
   "outputs": [],
   "source": [
    "from examples.mlperf.rnnt.model import RNNT\n",
    "from tinygrad import Tensor"
   ]
  },
  {
   "cell_type": "code",
   "execution_count": 72,
   "metadata": {},
   "outputs": [],
   "source": [
    "rnnt = RNNT()"
   ]
  },
  {
   "cell_type": "code",
   "execution_count": 73,
   "metadata": {},
   "outputs": [
    {
     "data": {
      "text/plain": [
       "array(27, dtype=int32)"
      ]
     },
     "execution_count": 73,
     "metadata": {},
     "output_type": "execute_result"
    }
   ],
   "source": [
    "Tensor.randint(5,15,low=0,high=29).max().numpy()"
   ]
  },
  {
   "cell_type": "code",
   "execution_count": 74,
   "metadata": {},
   "outputs": [],
   "source": [
    "X = Tensor.uniform(20,5,240)\n",
    "X_lens = Tensor.ones(5)*20\n",
    "Y = Tensor.randint(5,15,high=29)"
   ]
  },
  {
   "cell_type": "code",
   "execution_count": 75,
   "metadata": {},
   "outputs": [],
   "source": [
    "\n",
    "def dis(data_item):\n",
    "    enc, xlens = rnnt.encoder(X,X_lens)\n",
    "    preds,ylens = rnnt.prediction.__call__(Y,None,1)\n",
    "    d = rnnt.joint(enc,preds).softmax(-1)\n",
    "    return d, xlens,ylens,labels"
   ]
  },
  {
   "cell_type": "markdown",
   "metadata": {},
   "source": [
    "## real data"
   ]
  },
  {
   "cell_type": "code",
   "execution_count": 9,
   "metadata": {},
   "outputs": [],
   "source": [
    "from data import iterate\n",
    "import numpy as np\n",
    "from model import RNNT, LSTM\n",
    "from tinygrad.nn.state import get_parameters\n",
    "from tinygrad import Tensor"
   ]
  },
  {
   "cell_type": "code",
   "execution_count": 10,
   "metadata": {},
   "outputs": [],
   "source": [
    "i2c = list(\"abcdefghijklmnopqrstuvwxyz' \")+[\"<pad>\"]\n",
    "c2i = dict(map(reversed,enumerate(i2c)))\n",
    "C = len(i2c) # the last index stands for either the skip or pad. thesee are different.\n",
    "def text_encode(s):\n",
    "    if type(s[0]) == str: s = [s]\n",
    "    lens = list(map(len,s))\n",
    "    maxlen = max(lens)\n",
    "    encs = [list(map(c2i.__getitem__,e)) + (maxlen-l) * [c2i['<pad>']] for e,l in zip(s,lens)]\n",
    "    encs = np.array(encs)\n",
    "    return encs,lens"
   ]
  },
  {
   "cell_type": "code",
   "execution_count": 3,
   "metadata": {},
   "outputs": [
    {
     "name": "stdout",
     "output_type": "stream",
     "text": [
      "there are 2703 samples in the dataset\n"
     ]
    }
   ],
   "source": [
    "X,labels = next(iterate(4))\n",
    "X,X_lens = X\n",
    "labels,Y_lens = text_encode(labels)"
   ]
  },
  {
   "cell_type": "code",
   "execution_count": 4,
   "metadata": {},
   "outputs": [],
   "source": [
    "lstm = LSTM(240,5000,1,0)\n",
    "for p in get_parameters(lstm):\n",
    "    p.requires_grad = True"
   ]
  },
  {
   "cell_type": "code",
   "execution_count": 8,
   "metadata": {},
   "outputs": [
    {
     "ename": "AssertionError",
     "evalue": "out of memory - requested:  0.40 GB, available:  0.06 GB",
     "output_type": "error",
     "traceback": [
      "\u001b[0;31m---------------------------------------------------------------------------\u001b[0m",
      "\u001b[0;31mAssertionError\u001b[0m                            Traceback (most recent call last)",
      "\u001b[1;32m/Users/kierkegaard/friends/dkormann/tinygrad/examples/mlperf/rnnt/rnnt.ipynb Cell 30\u001b[0m line \u001b[0;36m1\n\u001b[0;32m----> <a href='vscode-notebook-cell:/Users/kierkegaard/friends/dkormann/tinygrad/examples/mlperf/rnnt/rnnt.ipynb#Y103sZmlsZQ%3D%3D?line=0'>1</a>\u001b[0m p, _ \u001b[39m=\u001b[39m lstm(Tensor(X),\u001b[39mNone\u001b[39;49;00m)\n\u001b[1;32m      <a href='vscode-notebook-cell:/Users/kierkegaard/friends/dkormann/tinygrad/examples/mlperf/rnnt/rnnt.ipynb#Y103sZmlsZQ%3D%3D?line=1'>2</a>\u001b[0m p\u001b[39m.\u001b[39mrealize()\n",
      "File \u001b[0;32m~/friends/dkormann/tinygrad/examples/mlperf/rnnt/model.py:45\u001b[0m, in \u001b[0;36mLSTM.__call__\u001b[0;34m(self, x, hc)\u001b[0m\n\u001b[1;32m     43\u001b[0m output \u001b[39m=\u001b[39m \u001b[39mNone\u001b[39;00m\n\u001b[1;32m     44\u001b[0m \u001b[39mfor\u001b[39;00m t \u001b[39min\u001b[39;00m \u001b[39mrange\u001b[39m(x\u001b[39m.\u001b[39mshape[\u001b[39m0\u001b[39m]):\n\u001b[0;32m---> 45\u001b[0m   hc \u001b[39m=\u001b[39m _do_step(x[t] \u001b[39m+\u001b[39;49m \u001b[39m1\u001b[39;49m \u001b[39m-\u001b[39;49m \u001b[39m1\u001b[39;49m, hc) \u001b[39m# TODO: why do we need to do this?\u001b[39;00m\n\u001b[1;32m     46\u001b[0m   \u001b[39mif\u001b[39;00m output \u001b[39mis\u001b[39;00m \u001b[39mNone\u001b[39;00m:\n\u001b[1;32m     47\u001b[0m     output \u001b[39m=\u001b[39m hc[\u001b[39m-\u001b[39m\u001b[39m1\u001b[39m:, :x\u001b[39m.\u001b[39mshape[\u001b[39m1\u001b[39m]]\n",
      "File \u001b[0;32m~/friends/dkormann/tinygrad/examples/mlperf/rnnt/model.py:38\u001b[0m, in \u001b[0;36mLSTM.__call__.<locals>._do_step\u001b[0;34m(x_, hc_)\u001b[0m\n\u001b[1;32m     37\u001b[0m \u001b[39mdef\u001b[39;00m \u001b[39m_do_step\u001b[39m(x_, hc_):\n\u001b[0;32m---> 38\u001b[0m   \u001b[39mreturn\u001b[39;00m \u001b[39mself\u001b[39;49m\u001b[39m.\u001b[39;49mdo_step(x_, hc_)\n",
      "File \u001b[0;32m~/friends/dkormann/tinygrad/examples/mlperf/rnnt/model.py:56\u001b[0m, in \u001b[0;36mLSTM.do_step\u001b[0;34m(self, x, hc)\u001b[0m\n\u001b[1;32m     54\u001b[0m new_hc \u001b[39m=\u001b[39m [x]\n\u001b[1;32m     55\u001b[0m \u001b[39mfor\u001b[39;00m i, cell \u001b[39min\u001b[39;00m \u001b[39menumerate\u001b[39m(\u001b[39mself\u001b[39m\u001b[39m.\u001b[39mcells):\n\u001b[0;32m---> 56\u001b[0m   new_hc\u001b[39m.\u001b[39mappend(cell(new_hc[i][:x\u001b[39m.\u001b[39;49mshape[\u001b[39m0\u001b[39;49m]], hc[i]))\n\u001b[1;32m     57\u001b[0m \u001b[39mreturn\u001b[39;00m Tensor\u001b[39m.\u001b[39mstack(new_hc[\u001b[39m1\u001b[39m:])\u001b[39m.\u001b[39mrealize()\n",
      "File \u001b[0;32m~/friends/dkormann/tinygrad/examples/mlperf/rnnt/model.py:25\u001b[0m, in \u001b[0;36mLSTMCell.__call__\u001b[0;34m(self, x, hc)\u001b[0m\n\u001b[1;32m     22\u001b[0m c \u001b[39m=\u001b[39m (f \u001b[39m*\u001b[39m hc[x\u001b[39m.\u001b[39mshape[\u001b[39m0\u001b[39m]:]) \u001b[39m+\u001b[39m (i \u001b[39m*\u001b[39m g)\n\u001b[1;32m     23\u001b[0m h \u001b[39m=\u001b[39m (o \u001b[39m*\u001b[39m c\u001b[39m.\u001b[39mtanh())\u001b[39m.\u001b[39mdropout(\u001b[39mself\u001b[39m\u001b[39m.\u001b[39mdropout)\n\u001b[0;32m---> 25\u001b[0m \u001b[39mreturn\u001b[39;00m Tensor\u001b[39m.\u001b[39;49mcat(h, c)\u001b[39m.\u001b[39;49mrealize()\n",
      "File \u001b[0;32m~/friends/dkormann/tinygrad/tinygrad/tensor.py:105\u001b[0m, in \u001b[0;36mTensor.realize\u001b[0;34m(self)\u001b[0m\n\u001b[1;32m    104\u001b[0m \u001b[39mdef\u001b[39;00m \u001b[39mrealize\u001b[39m(\u001b[39mself\u001b[39m) \u001b[39m-\u001b[39m\u001b[39m>\u001b[39m Tensor:\n\u001b[0;32m--> 105\u001b[0m   run_schedule(\u001b[39mself\u001b[39;49m\u001b[39m.\u001b[39;49mlazydata\u001b[39m.\u001b[39;49mschedule())\n\u001b[1;32m    106\u001b[0m   \u001b[39mreturn\u001b[39;00m \u001b[39mself\u001b[39m\n",
      "File \u001b[0;32m~/friends/dkormann/tinygrad/tinygrad/realize.py:30\u001b[0m, in \u001b[0;36mrun_schedule\u001b[0;34m(schedule, disable_logging)\u001b[0m\n\u001b[1;32m     27\u001b[0m         \u001b[39mbreak\u001b[39;00m\n\u001b[1;32m     28\u001b[0m \u001b[39m# we don't have an output buffer, we have to create it, and create to max size if it has symbolic shape\u001b[39;00m\n\u001b[1;32m     29\u001b[0m si\u001b[39m.\u001b[39mout\u001b[39m.\u001b[39mrealized \u001b[39m=\u001b[39m si\u001b[39m.\u001b[39mout\u001b[39m.\u001b[39moutput_buffer \u001b[39mif\u001b[39;00m si\u001b[39m.\u001b[39mout\u001b[39m.\u001b[39moutput_buffer \u001b[39mis\u001b[39;00m \u001b[39mnot\u001b[39;00m \u001b[39mNone\u001b[39;00m \u001b[39melse\u001b[39;00m \\\n\u001b[0;32m---> 30\u001b[0m   Device[si\u001b[39m.\u001b[39;49mout\u001b[39m.\u001b[39;49mdevice]\u001b[39m.\u001b[39;49mbuffer(prod((s \u001b[39mif\u001b[39;49;00m \u001b[39misinstance\u001b[39;49m(s, \u001b[39mint\u001b[39;49m) \u001b[39melse\u001b[39;49;00m s\u001b[39m.\u001b[39;49mmax \u001b[39mfor\u001b[39;49;00m s \u001b[39min\u001b[39;49;00m si\u001b[39m.\u001b[39;49mout\u001b[39m.\u001b[39;49mshape)), si\u001b[39m.\u001b[39;49mout\u001b[39m.\u001b[39;49mdtype, \u001b[39m*\u001b[39;49m\u001b[39m*\u001b[39;49msi\u001b[39m.\u001b[39;49mout\u001b[39m.\u001b[39;49m_device_extra_args())\n\u001b[1;32m     31\u001b[0m \u001b[39mif\u001b[39;00m si\u001b[39m.\u001b[39mast\u001b[39m.\u001b[39mop \u001b[39min\u001b[39;00m LoadOps:\n\u001b[1;32m     32\u001b[0m   \u001b[39m# confirm the LoadOps are contiguous and in order\u001b[39;00m\n\u001b[1;32m     33\u001b[0m   \u001b[39mfor\u001b[39;00m i,s \u001b[39min\u001b[39;00m \u001b[39menumerate\u001b[39m(si\u001b[39m.\u001b[39mast\u001b[39m.\u001b[39msrc): \u001b[39massert\u001b[39;00m \u001b[39misinstance\u001b[39m(s, LazyOp) \u001b[39mand\u001b[39;00m s\u001b[39m.\u001b[39mop \u001b[39m==\u001b[39m BufferOps\u001b[39m.\u001b[39mLOAD \u001b[39mand\u001b[39;00m s\u001b[39m.\u001b[39marg\u001b[39m.\u001b[39midx \u001b[39m==\u001b[39m i\u001b[39m+\u001b[39m\u001b[39m1\u001b[39m \u001b[39mand\u001b[39;00m s\u001b[39m.\u001b[39marg\u001b[39m.\u001b[39mst\u001b[39m.\u001b[39mcontiguous, \u001b[39mf\u001b[39m\u001b[39m\"\u001b[39m\u001b[39mbad LoadOps src \u001b[39m\u001b[39m{\u001b[39;00mi\u001b[39m}\u001b[39;00m\u001b[39m: \u001b[39m\u001b[39m{\u001b[39;00ms\u001b[39m}\u001b[39;00m\u001b[39m\"\u001b[39m\n",
      "File \u001b[0;32m~/friends/dkormann/tinygrad/tinygrad/runtime/ops_gpu.py:50\u001b[0m, in \u001b[0;36mCLBuffer.__init__\u001b[0;34m(self, size, dtype, device)\u001b[0m\n\u001b[0;32m---> 50\u001b[0m \u001b[39mdef\u001b[39;00m \u001b[39m__init__\u001b[39m(\u001b[39mself\u001b[39m, size, dtype, device\u001b[39m=\u001b[39m\u001b[39m'\u001b[39m\u001b[39m0\u001b[39m\u001b[39m'\u001b[39m): \u001b[39msuper\u001b[39;49m()\u001b[39m.\u001b[39;49m\u001b[39m__init__\u001b[39;49m(size, dtype, allocator\u001b[39m=\u001b[39;49mCL\u001b[39m.\u001b[39;49mcl_allocator, \u001b[39m*\u001b[39;49m\u001b[39m*\u001b[39;49m{\u001b[39m'\u001b[39;49m\u001b[39mdevice\u001b[39;49m\u001b[39m'\u001b[39;49m: device})\n",
      "File \u001b[0;32m~/friends/dkormann/tinygrad/tinygrad/runtime/lib.py:13\u001b[0m, in \u001b[0;36mRawBuffer.__init__\u001b[0;34m(self, size, dtype, buf, allocator, **kwargs)\u001b[0m\n\u001b[1;32m     11\u001b[0m \u001b[39mself\u001b[39m\u001b[39m.\u001b[39mdtype: DType \u001b[39m=\u001b[39m dtype\n\u001b[1;32m     12\u001b[0m \u001b[39mself\u001b[39m\u001b[39m.\u001b[39moffset: \u001b[39mint\u001b[39m \u001b[39m=\u001b[39m \u001b[39m0\u001b[39m    \u001b[39m# TODO: this is very unsupported, only in disk\u001b[39;00m\n\u001b[0;32m---> 13\u001b[0m \u001b[39mself\u001b[39m\u001b[39m.\u001b[39m_buf \u001b[39m=\u001b[39m buf \u001b[39mif\u001b[39;00m buf \u001b[39mis\u001b[39;00m \u001b[39mnot\u001b[39;00m \u001b[39mNone\u001b[39;00m \u001b[39melse\u001b[39;00m (allocator(size, dtype, \u001b[39m*\u001b[39;49m\u001b[39m*\u001b[39;49mkwargs) \u001b[39mif\u001b[39;00m allocator \u001b[39melse\u001b[39;00m \u001b[39mNone\u001b[39;00m) \u001b[39m# If buf is provided, use it. Otherwise try to allocate from the allocator.\u001b[39;00m\n\u001b[1;32m     14\u001b[0m \u001b[39mself\u001b[39m\u001b[39m.\u001b[39m_memsz: \u001b[39mint\u001b[39m \u001b[39m=\u001b[39m size\u001b[39m*\u001b[39mdtype\u001b[39m.\u001b[39mitemsize\n\u001b[1;32m     15\u001b[0m \u001b[39mself\u001b[39m\u001b[39m.\u001b[39m_allocator \u001b[39m=\u001b[39m allocator\n",
      "File \u001b[0;32m~/friends/dkormann/tinygrad/tinygrad/runtime/lib.py:92\u001b[0m, in \u001b[0;36mLRUAllocator.__call__\u001b[0;34m(self, size, dtype, device, **kwargs)\u001b[0m\n\u001b[1;32m     90\u001b[0m \u001b[39mdef\u001b[39;00m \u001b[39m__call__\u001b[39m(\u001b[39mself\u001b[39m, size, dtype, device\u001b[39m=\u001b[39m\u001b[39m'\u001b[39m\u001b[39m0\u001b[39m\u001b[39m'\u001b[39m, \u001b[39m*\u001b[39m\u001b[39m*\u001b[39mkwargs): \u001b[39m# allocate\u001b[39;00m\n\u001b[1;32m     91\u001b[0m   rawbufs \u001b[39m=\u001b[39m \u001b[39mself\u001b[39m\u001b[39m.\u001b[39mcached_buffers\u001b[39m.\u001b[39mget(\u001b[39mself\u001b[39m\u001b[39m.\u001b[39m_cached_bufkey(size, dtype, device), \u001b[39mNone\u001b[39;00m)\n\u001b[0;32m---> 92\u001b[0m   \u001b[39mreturn\u001b[39;00m \u001b[39mself\u001b[39m\u001b[39m.\u001b[39m_cache_reuse_buffer(rawbufs) \u001b[39mif\u001b[39;00m rawbufs \u001b[39melse\u001b[39;00m \u001b[39mself\u001b[39;49m\u001b[39m.\u001b[39;49m_alloc_buffer(size, dtype, device, \u001b[39m*\u001b[39;49m\u001b[39m*\u001b[39;49mkwargs)\n",
      "File \u001b[0;32m~/friends/dkormann/tinygrad/tinygrad/runtime/lib.py:72\u001b[0m, in \u001b[0;36mLRUAllocator._alloc_buffer\u001b[0;34m(self, size, dtype, device, **kwargs)\u001b[0m\n\u001b[1;32m     71\u001b[0m \u001b[39mdef\u001b[39;00m \u001b[39m_alloc_buffer\u001b[39m(\u001b[39mself\u001b[39m, size, dtype, device, \u001b[39m*\u001b[39m\u001b[39m*\u001b[39mkwargs):\n\u001b[0;32m---> 72\u001b[0m   \u001b[39mself\u001b[39;49m\u001b[39m.\u001b[39;49mensure_has_free_space(size\u001b[39m*\u001b[39;49mdtype\u001b[39m.\u001b[39;49mitemsize, device)\n\u001b[1;32m     73\u001b[0m   \u001b[39mwhile\u001b[39;00m \u001b[39mTrue\u001b[39;00m:\n\u001b[1;32m     74\u001b[0m     \u001b[39mtry\u001b[39;00m:\n",
      "File \u001b[0;32m~/friends/dkormann/tinygrad/tinygrad/runtime/lib.py:69\u001b[0m, in \u001b[0;36mLRUAllocator.ensure_has_free_space\u001b[0;34m(self, space_to_free, device)\u001b[0m\n\u001b[1;32m     67\u001b[0m   bucket, epoch \u001b[39m=\u001b[39m \u001b[39mself\u001b[39m\u001b[39m.\u001b[39maging_order[device]\u001b[39m.\u001b[39mpopleft()\n\u001b[1;32m     68\u001b[0m   \u001b[39mif\u001b[39;00m \u001b[39mself\u001b[39m\u001b[39m.\u001b[39mcached_buffers[bucket] \u001b[39mand\u001b[39;00m \u001b[39mself\u001b[39m\u001b[39m.\u001b[39mcached_buffers[bucket][\u001b[39m-\u001b[39m\u001b[39m1\u001b[39m][\u001b[39m1\u001b[39m] \u001b[39m==\u001b[39m epoch: \u001b[39mself\u001b[39m\u001b[39m.\u001b[39m_free_buffer(\u001b[39mself\u001b[39m\u001b[39m.\u001b[39mcached_buffers[bucket]\u001b[39m.\u001b[39mpop()[\u001b[39m0\u001b[39m]) \u001b[39m# Free cached buffer if it is still in cache.\u001b[39;00m\n\u001b[0;32m---> 69\u001b[0m \u001b[39massert\u001b[39;00m (curr_free \u001b[39m:=\u001b[39m \u001b[39mself\u001b[39m\u001b[39m.\u001b[39m_get_cur_free_space(device)) \u001b[39m>\u001b[39m space_to_free, \u001b[39mf\u001b[39m\u001b[39m\"\u001b[39m\u001b[39mout of memory - requested: \u001b[39m\u001b[39m{\u001b[39;00mspace_to_free\u001b[39m/\u001b[39m\u001b[39m1e9\u001b[39m\u001b[39m:\u001b[39;00m\u001b[39m5.2f\u001b[39m\u001b[39m}\u001b[39;00m\u001b[39m GB, available: \u001b[39m\u001b[39m{\u001b[39;00mcurr_free\u001b[39m/\u001b[39m\u001b[39m1e9\u001b[39m\u001b[39m:\u001b[39;00m\u001b[39m5.2f\u001b[39m\u001b[39m}\u001b[39;00m\u001b[39m GB\u001b[39m\u001b[39m\"\u001b[39m\n",
      "\u001b[0;31mAssertionError\u001b[0m: out of memory - requested:  0.40 GB, available:  0.06 GB"
     ]
    }
   ],
   "source": [
    "p, _ = lstm(Tensor(X),None)\n",
    "p.realize()"
   ]
  },
  {
   "cell_type": "code",
   "execution_count": 40,
   "metadata": {},
   "outputs": [],
   "source": [
    "for p in get_parameters(rnnt):\n",
    "    p.requires_grad = True"
   ]
  },
  {
   "cell_type": "code",
   "execution_count": 47,
   "metadata": {},
   "outputs": [
    {
     "data": {
      "text/plain": [
       "<Tensor <LB (4096,) dtypes.float op=buffer<4096, dtypes.float, 11289742672> st=ShapeTracker(views=(View(shape=(4096,), strides=(1,), offset=0, mask=None, contiguous=True),))> on GPU with grad None>"
      ]
     },
     "execution_count": 47,
     "metadata": {},
     "output_type": "execute_result"
    }
   ],
   "source": [
    "rnnt.encoder.pre_rnn.cells[0].bias_hh"
   ]
  },
  {
   "cell_type": "code",
   "execution_count": 41,
   "metadata": {},
   "outputs": [
    {
     "ename": "AssertionError",
     "evalue": "out of memory - requested:  0.00 GB, available:  0.00 GB",
     "output_type": "error",
     "traceback": [
      "\u001b[0;31m---------------------------------------------------------------------------\u001b[0m",
      "\u001b[0;31mAssertionError\u001b[0m                            Traceback (most recent call last)",
      "\u001b[1;32m/Users/kierkegaard/friends/dkormann/tinygrad/examples/mlperf/rnnt/rnnt.ipynb Cell 34\u001b[0m line \u001b[0;36m1\n\u001b[0;32m----> <a href='vscode-notebook-cell:/Users/kierkegaard/friends/dkormann/tinygrad/examples/mlperf/rnnt/rnnt.ipynb#X63sZmlsZQ%3D%3D?line=0'>1</a>\u001b[0m X,X_lens \u001b[39m=\u001b[39m rnnt\u001b[39m.\u001b[39;49mencoder\u001b[39m.\u001b[39;49mpre_rnn(Tensor(X),\u001b[39mNone\u001b[39;49;00m)\n",
      "File \u001b[0;32m~/friends/dkormann/tinygrad/examples/mlperf/rnnt/model.py:49\u001b[0m, in \u001b[0;36mLSTM.__call__\u001b[0;34m(self, x, hc)\u001b[0m\n\u001b[1;32m     47\u001b[0m     output \u001b[39m=\u001b[39m hc[\u001b[39m-\u001b[39m\u001b[39m1\u001b[39m:, :x\u001b[39m.\u001b[39mshape[\u001b[39m1\u001b[39m]]\n\u001b[1;32m     48\u001b[0m   \u001b[39melse\u001b[39;00m:\n\u001b[0;32m---> 49\u001b[0m     output \u001b[39m=\u001b[39m output\u001b[39m.\u001b[39;49mcat(hc[\u001b[39m-\u001b[39;49m\u001b[39m1\u001b[39;49m:, :x\u001b[39m.\u001b[39;49mshape[\u001b[39m1\u001b[39;49m]], dim\u001b[39m=\u001b[39;49m\u001b[39m0\u001b[39;49m)\u001b[39m.\u001b[39;49mrealize()\n\u001b[1;32m     51\u001b[0m \u001b[39mreturn\u001b[39;00m output, hc\n",
      "File \u001b[0;32m~/friends/dkormann/tinygrad/tinygrad/tensor.py:105\u001b[0m, in \u001b[0;36mTensor.realize\u001b[0;34m(self)\u001b[0m\n\u001b[1;32m    104\u001b[0m \u001b[39mdef\u001b[39;00m \u001b[39mrealize\u001b[39m(\u001b[39mself\u001b[39m) \u001b[39m-\u001b[39m\u001b[39m>\u001b[39m Tensor:\n\u001b[0;32m--> 105\u001b[0m   run_schedule(\u001b[39mself\u001b[39;49m\u001b[39m.\u001b[39;49mlazydata\u001b[39m.\u001b[39;49mschedule())\n\u001b[1;32m    106\u001b[0m   \u001b[39mreturn\u001b[39;00m \u001b[39mself\u001b[39m\n",
      "File \u001b[0;32m~/friends/dkormann/tinygrad/tinygrad/realize.py:30\u001b[0m, in \u001b[0;36mrun_schedule\u001b[0;34m(schedule, disable_logging)\u001b[0m\n\u001b[1;32m     27\u001b[0m         \u001b[39mbreak\u001b[39;00m\n\u001b[1;32m     28\u001b[0m \u001b[39m# we don't have an output buffer, we have to create it, and create to max size if it has symbolic shape\u001b[39;00m\n\u001b[1;32m     29\u001b[0m si\u001b[39m.\u001b[39mout\u001b[39m.\u001b[39mrealized \u001b[39m=\u001b[39m si\u001b[39m.\u001b[39mout\u001b[39m.\u001b[39moutput_buffer \u001b[39mif\u001b[39;00m si\u001b[39m.\u001b[39mout\u001b[39m.\u001b[39moutput_buffer \u001b[39mis\u001b[39;00m \u001b[39mnot\u001b[39;00m \u001b[39mNone\u001b[39;00m \u001b[39melse\u001b[39;00m \\\n\u001b[0;32m---> 30\u001b[0m   Device[si\u001b[39m.\u001b[39;49mout\u001b[39m.\u001b[39;49mdevice]\u001b[39m.\u001b[39;49mbuffer(prod((s \u001b[39mif\u001b[39;49;00m \u001b[39misinstance\u001b[39;49m(s, \u001b[39mint\u001b[39;49m) \u001b[39melse\u001b[39;49;00m s\u001b[39m.\u001b[39;49mmax \u001b[39mfor\u001b[39;49;00m s \u001b[39min\u001b[39;49;00m si\u001b[39m.\u001b[39;49mout\u001b[39m.\u001b[39;49mshape)), si\u001b[39m.\u001b[39;49mout\u001b[39m.\u001b[39;49mdtype, \u001b[39m*\u001b[39;49m\u001b[39m*\u001b[39;49msi\u001b[39m.\u001b[39;49mout\u001b[39m.\u001b[39;49m_device_extra_args())\n\u001b[1;32m     31\u001b[0m \u001b[39mif\u001b[39;00m si\u001b[39m.\u001b[39mast\u001b[39m.\u001b[39mop \u001b[39min\u001b[39;00m LoadOps:\n\u001b[1;32m     32\u001b[0m   \u001b[39m# confirm the LoadOps are contiguous and in order\u001b[39;00m\n\u001b[1;32m     33\u001b[0m   \u001b[39mfor\u001b[39;00m i,s \u001b[39min\u001b[39;00m \u001b[39menumerate\u001b[39m(si\u001b[39m.\u001b[39mast\u001b[39m.\u001b[39msrc): \u001b[39massert\u001b[39;00m \u001b[39misinstance\u001b[39m(s, LazyOp) \u001b[39mand\u001b[39;00m s\u001b[39m.\u001b[39mop \u001b[39m==\u001b[39m BufferOps\u001b[39m.\u001b[39mLOAD \u001b[39mand\u001b[39;00m s\u001b[39m.\u001b[39marg\u001b[39m.\u001b[39midx \u001b[39m==\u001b[39m i\u001b[39m+\u001b[39m\u001b[39m1\u001b[39m \u001b[39mand\u001b[39;00m s\u001b[39m.\u001b[39marg\u001b[39m.\u001b[39mst\u001b[39m.\u001b[39mcontiguous, \u001b[39mf\u001b[39m\u001b[39m\"\u001b[39m\u001b[39mbad LoadOps src \u001b[39m\u001b[39m{\u001b[39;00mi\u001b[39m}\u001b[39;00m\u001b[39m: \u001b[39m\u001b[39m{\u001b[39;00ms\u001b[39m}\u001b[39;00m\u001b[39m\"\u001b[39m\n",
      "File \u001b[0;32m~/friends/dkormann/tinygrad/tinygrad/runtime/ops_gpu.py:50\u001b[0m, in \u001b[0;36mCLBuffer.__init__\u001b[0;34m(self, size, dtype, device)\u001b[0m\n\u001b[0;32m---> 50\u001b[0m \u001b[39mdef\u001b[39;00m \u001b[39m__init__\u001b[39m(\u001b[39mself\u001b[39m, size, dtype, device\u001b[39m=\u001b[39m\u001b[39m'\u001b[39m\u001b[39m0\u001b[39m\u001b[39m'\u001b[39m): \u001b[39msuper\u001b[39;49m()\u001b[39m.\u001b[39;49m\u001b[39m__init__\u001b[39;49m(size, dtype, allocator\u001b[39m=\u001b[39;49mCL\u001b[39m.\u001b[39;49mcl_allocator, \u001b[39m*\u001b[39;49m\u001b[39m*\u001b[39;49m{\u001b[39m'\u001b[39;49m\u001b[39mdevice\u001b[39;49m\u001b[39m'\u001b[39;49m: device})\n",
      "File \u001b[0;32m~/friends/dkormann/tinygrad/tinygrad/runtime/lib.py:13\u001b[0m, in \u001b[0;36mRawBuffer.__init__\u001b[0;34m(self, size, dtype, buf, allocator, **kwargs)\u001b[0m\n\u001b[1;32m     11\u001b[0m \u001b[39mself\u001b[39m\u001b[39m.\u001b[39mdtype: DType \u001b[39m=\u001b[39m dtype\n\u001b[1;32m     12\u001b[0m \u001b[39mself\u001b[39m\u001b[39m.\u001b[39moffset: \u001b[39mint\u001b[39m \u001b[39m=\u001b[39m \u001b[39m0\u001b[39m    \u001b[39m# TODO: this is very unsupported, only in disk\u001b[39;00m\n\u001b[0;32m---> 13\u001b[0m \u001b[39mself\u001b[39m\u001b[39m.\u001b[39m_buf \u001b[39m=\u001b[39m buf \u001b[39mif\u001b[39;00m buf \u001b[39mis\u001b[39;00m \u001b[39mnot\u001b[39;00m \u001b[39mNone\u001b[39;00m \u001b[39melse\u001b[39;00m (allocator(size, dtype, \u001b[39m*\u001b[39;49m\u001b[39m*\u001b[39;49mkwargs) \u001b[39mif\u001b[39;00m allocator \u001b[39melse\u001b[39;00m \u001b[39mNone\u001b[39;00m) \u001b[39m# If buf is provided, use it. Otherwise try to allocate from the allocator.\u001b[39;00m\n\u001b[1;32m     14\u001b[0m \u001b[39mself\u001b[39m\u001b[39m.\u001b[39m_memsz: \u001b[39mint\u001b[39m \u001b[39m=\u001b[39m size\u001b[39m*\u001b[39mdtype\u001b[39m.\u001b[39mitemsize\n\u001b[1;32m     15\u001b[0m \u001b[39mself\u001b[39m\u001b[39m.\u001b[39m_allocator \u001b[39m=\u001b[39m allocator\n",
      "File \u001b[0;32m~/friends/dkormann/tinygrad/tinygrad/runtime/lib.py:92\u001b[0m, in \u001b[0;36mLRUAllocator.__call__\u001b[0;34m(self, size, dtype, device, **kwargs)\u001b[0m\n\u001b[1;32m     90\u001b[0m \u001b[39mdef\u001b[39;00m \u001b[39m__call__\u001b[39m(\u001b[39mself\u001b[39m, size, dtype, device\u001b[39m=\u001b[39m\u001b[39m'\u001b[39m\u001b[39m0\u001b[39m\u001b[39m'\u001b[39m, \u001b[39m*\u001b[39m\u001b[39m*\u001b[39mkwargs): \u001b[39m# allocate\u001b[39;00m\n\u001b[1;32m     91\u001b[0m   rawbufs \u001b[39m=\u001b[39m \u001b[39mself\u001b[39m\u001b[39m.\u001b[39mcached_buffers\u001b[39m.\u001b[39mget(\u001b[39mself\u001b[39m\u001b[39m.\u001b[39m_cached_bufkey(size, dtype, device), \u001b[39mNone\u001b[39;00m)\n\u001b[0;32m---> 92\u001b[0m   \u001b[39mreturn\u001b[39;00m \u001b[39mself\u001b[39m\u001b[39m.\u001b[39m_cache_reuse_buffer(rawbufs) \u001b[39mif\u001b[39;00m rawbufs \u001b[39melse\u001b[39;00m \u001b[39mself\u001b[39;49m\u001b[39m.\u001b[39;49m_alloc_buffer(size, dtype, device, \u001b[39m*\u001b[39;49m\u001b[39m*\u001b[39;49mkwargs)\n",
      "File \u001b[0;32m~/friends/dkormann/tinygrad/tinygrad/runtime/lib.py:72\u001b[0m, in \u001b[0;36mLRUAllocator._alloc_buffer\u001b[0;34m(self, size, dtype, device, **kwargs)\u001b[0m\n\u001b[1;32m     71\u001b[0m \u001b[39mdef\u001b[39;00m \u001b[39m_alloc_buffer\u001b[39m(\u001b[39mself\u001b[39m, size, dtype, device, \u001b[39m*\u001b[39m\u001b[39m*\u001b[39mkwargs):\n\u001b[0;32m---> 72\u001b[0m   \u001b[39mself\u001b[39;49m\u001b[39m.\u001b[39;49mensure_has_free_space(size\u001b[39m*\u001b[39;49mdtype\u001b[39m.\u001b[39;49mitemsize, device)\n\u001b[1;32m     73\u001b[0m   \u001b[39mwhile\u001b[39;00m \u001b[39mTrue\u001b[39;00m:\n\u001b[1;32m     74\u001b[0m     \u001b[39mtry\u001b[39;00m:\n",
      "File \u001b[0;32m~/friends/dkormann/tinygrad/tinygrad/runtime/lib.py:69\u001b[0m, in \u001b[0;36mLRUAllocator.ensure_has_free_space\u001b[0;34m(self, space_to_free, device)\u001b[0m\n\u001b[1;32m     67\u001b[0m   bucket, epoch \u001b[39m=\u001b[39m \u001b[39mself\u001b[39m\u001b[39m.\u001b[39maging_order[device]\u001b[39m.\u001b[39mpopleft()\n\u001b[1;32m     68\u001b[0m   \u001b[39mif\u001b[39;00m \u001b[39mself\u001b[39m\u001b[39m.\u001b[39mcached_buffers[bucket] \u001b[39mand\u001b[39;00m \u001b[39mself\u001b[39m\u001b[39m.\u001b[39mcached_buffers[bucket][\u001b[39m-\u001b[39m\u001b[39m1\u001b[39m][\u001b[39m1\u001b[39m] \u001b[39m==\u001b[39m epoch: \u001b[39mself\u001b[39m\u001b[39m.\u001b[39m_free_buffer(\u001b[39mself\u001b[39m\u001b[39m.\u001b[39mcached_buffers[bucket]\u001b[39m.\u001b[39mpop()[\u001b[39m0\u001b[39m]) \u001b[39m# Free cached buffer if it is still in cache.\u001b[39;00m\n\u001b[0;32m---> 69\u001b[0m \u001b[39massert\u001b[39;00m (curr_free \u001b[39m:=\u001b[39m \u001b[39mself\u001b[39m\u001b[39m.\u001b[39m_get_cur_free_space(device)) \u001b[39m>\u001b[39m space_to_free, \u001b[39mf\u001b[39m\u001b[39m\"\u001b[39m\u001b[39mout of memory - requested: \u001b[39m\u001b[39m{\u001b[39;00mspace_to_free\u001b[39m/\u001b[39m\u001b[39m1e9\u001b[39m\u001b[39m:\u001b[39;00m\u001b[39m5.2f\u001b[39m\u001b[39m}\u001b[39;00m\u001b[39m GB, available: \u001b[39m\u001b[39m{\u001b[39;00mcurr_free\u001b[39m/\u001b[39m\u001b[39m1e9\u001b[39m\u001b[39m:\u001b[39;00m\u001b[39m5.2f\u001b[39m\u001b[39m}\u001b[39;00m\u001b[39m GB\u001b[39m\u001b[39m\"\u001b[39m\n",
      "\u001b[0;31mAssertionError\u001b[0m: out of memory - requested:  0.00 GB, available:  0.00 GB"
     ]
    }
   ],
   "source": [
    "X,X_lens = rnnt.encoder.pre_rnn(Tensor(X),None)"
   ]
  },
  {
   "cell_type": "code",
   "execution_count": 27,
   "metadata": {},
   "outputs": [
    {
     "name": "stdout",
     "output_type": "stream",
     "text": [
      "there are 2703 samples in the dataset\n"
     ]
    },
    {
     "ename": "AssertionError",
     "evalue": "out of memory - requested:  0.02 GB, available:  0.01 GB",
     "output_type": "error",
     "traceback": [
      "\u001b[0;31m---------------------------------------------------------------------------\u001b[0m",
      "\u001b[0;31mAssertionError\u001b[0m                            Traceback (most recent call last)",
      "\u001b[1;32m/Users/kierkegaard/friends/dkormann/tinygrad/examples/mlperf/rnnt/rnnt.ipynb Cell 28\u001b[0m line \u001b[0;36m4\n\u001b[1;32m      <a href='vscode-notebook-cell:/Users/kierkegaard/friends/dkormann/tinygrad/examples/mlperf/rnnt/rnnt.ipynb#X35sZmlsZQ%3D%3D?line=1'>2</a>\u001b[0m X,X_lens \u001b[39m=\u001b[39m X\n\u001b[1;32m      <a href='vscode-notebook-cell:/Users/kierkegaard/friends/dkormann/tinygrad/examples/mlperf/rnnt/rnnt.ipynb#X35sZmlsZQ%3D%3D?line=2'>3</a>\u001b[0m labels,Y_lens \u001b[39m=\u001b[39m text_encode(labels)\n\u001b[0;32m----> <a href='vscode-notebook-cell:/Users/kierkegaard/friends/dkormann/tinygrad/examples/mlperf/rnnt/rnnt.ipynb#X35sZmlsZQ%3D%3D?line=3'>4</a>\u001b[0m X,X_lens \u001b[39m=\u001b[39m rnnt\u001b[39m.\u001b[39;49mencoder\u001b[39m.\u001b[39;49m\u001b[39m__call__\u001b[39;49m(Tensor(X),X_lens) \u001b[39m# LSTM expects (N,B,D)\u001b[39;00m\n\u001b[1;32m      <a href='vscode-notebook-cell:/Users/kierkegaard/friends/dkormann/tinygrad/examples/mlperf/rnnt/rnnt.ipynb#X35sZmlsZQ%3D%3D?line=4'>5</a>\u001b[0m Y,_ \u001b[39m=\u001b[39m rnnt\u001b[39m.\u001b[39mprediction(Tensor(labels),\u001b[39mNone\u001b[39;00m,\u001b[39m1\u001b[39m)\n\u001b[1;32m      <a href='vscode-notebook-cell:/Users/kierkegaard/friends/dkormann/tinygrad/examples/mlperf/rnnt/rnnt.ipynb#X35sZmlsZQ%3D%3D?line=5'>6</a>\u001b[0m Y \u001b[39m=\u001b[39m Y\u001b[39m.\u001b[39mpad(((\u001b[39m0\u001b[39m,\u001b[39m0\u001b[39m),(\u001b[39m1\u001b[39m,\u001b[39m0\u001b[39m),(\u001b[39m0\u001b[39m,\u001b[39m0\u001b[39m)))\n",
      "File \u001b[0;32m~/friends/dkormann/tinygrad/examples/mlperf/rnnt/model.py:75\u001b[0m, in \u001b[0;36mEncoder.__call__\u001b[0;34m(self, x, x_lens)\u001b[0m\n\u001b[1;32m     74\u001b[0m \u001b[39mdef\u001b[39;00m \u001b[39m__call__\u001b[39m(\u001b[39mself\u001b[39m, x, x_lens):\n\u001b[0;32m---> 75\u001b[0m   x, _ \u001b[39m=\u001b[39m \u001b[39mself\u001b[39;49m\u001b[39m.\u001b[39;49mpre_rnn(x, \u001b[39mNone\u001b[39;49;00m)\n\u001b[1;32m     76\u001b[0m   x, x_lens \u001b[39m=\u001b[39m \u001b[39mself\u001b[39m\u001b[39m.\u001b[39mstack_time(x, x_lens)\n\u001b[1;32m     77\u001b[0m   x, _ \u001b[39m=\u001b[39m \u001b[39mself\u001b[39m\u001b[39m.\u001b[39mpost_rnn(x, \u001b[39mNone\u001b[39;00m)\n",
      "File \u001b[0;32m~/friends/dkormann/tinygrad/examples/mlperf/rnnt/model.py:45\u001b[0m, in \u001b[0;36mLSTM.__call__\u001b[0;34m(self, x, hc)\u001b[0m\n\u001b[1;32m     43\u001b[0m output \u001b[39m=\u001b[39m \u001b[39mNone\u001b[39;00m\n\u001b[1;32m     44\u001b[0m \u001b[39mfor\u001b[39;00m t \u001b[39min\u001b[39;00m \u001b[39mrange\u001b[39m(x\u001b[39m.\u001b[39mshape[\u001b[39m0\u001b[39m]):\n\u001b[0;32m---> 45\u001b[0m   hc \u001b[39m=\u001b[39m _do_step(x[t] \u001b[39m+\u001b[39;49m \u001b[39m1\u001b[39;49m \u001b[39m-\u001b[39;49m \u001b[39m1\u001b[39;49m, hc) \u001b[39m# TODO: why do we need to do this?\u001b[39;00m\n\u001b[1;32m     46\u001b[0m   \u001b[39mif\u001b[39;00m output \u001b[39mis\u001b[39;00m \u001b[39mNone\u001b[39;00m:\n\u001b[1;32m     47\u001b[0m     output \u001b[39m=\u001b[39m hc[\u001b[39m-\u001b[39m\u001b[39m1\u001b[39m:, :x\u001b[39m.\u001b[39mshape[\u001b[39m1\u001b[39m]]\n",
      "File \u001b[0;32m~/friends/dkormann/tinygrad/examples/mlperf/rnnt/model.py:38\u001b[0m, in \u001b[0;36mLSTM.__call__.<locals>._do_step\u001b[0;34m(x_, hc_)\u001b[0m\n\u001b[1;32m     37\u001b[0m \u001b[39mdef\u001b[39;00m \u001b[39m_do_step\u001b[39m(x_, hc_):\n\u001b[0;32m---> 38\u001b[0m   \u001b[39mreturn\u001b[39;00m \u001b[39mself\u001b[39;49m\u001b[39m.\u001b[39;49mdo_step(x_, hc_)\n",
      "File \u001b[0;32m~/friends/dkormann/tinygrad/examples/mlperf/rnnt/model.py:56\u001b[0m, in \u001b[0;36mLSTM.do_step\u001b[0;34m(self, x, hc)\u001b[0m\n\u001b[1;32m     54\u001b[0m new_hc \u001b[39m=\u001b[39m [x]\n\u001b[1;32m     55\u001b[0m \u001b[39mfor\u001b[39;00m i, cell \u001b[39min\u001b[39;00m \u001b[39menumerate\u001b[39m(\u001b[39mself\u001b[39m\u001b[39m.\u001b[39mcells):\n\u001b[0;32m---> 56\u001b[0m   new_hc\u001b[39m.\u001b[39mappend(cell(new_hc[i][:x\u001b[39m.\u001b[39;49mshape[\u001b[39m0\u001b[39;49m]], hc[i]))\n\u001b[1;32m     57\u001b[0m \u001b[39mreturn\u001b[39;00m Tensor\u001b[39m.\u001b[39mstack(new_hc[\u001b[39m1\u001b[39m:])\u001b[39m.\u001b[39mrealize()\n",
      "File \u001b[0;32m~/friends/dkormann/tinygrad/examples/mlperf/rnnt/model.py:25\u001b[0m, in \u001b[0;36mLSTMCell.__call__\u001b[0;34m(self, x, hc)\u001b[0m\n\u001b[1;32m     22\u001b[0m c \u001b[39m=\u001b[39m (f \u001b[39m*\u001b[39m hc[x\u001b[39m.\u001b[39mshape[\u001b[39m0\u001b[39m]:]) \u001b[39m+\u001b[39m (i \u001b[39m*\u001b[39m g)\n\u001b[1;32m     23\u001b[0m h \u001b[39m=\u001b[39m (o \u001b[39m*\u001b[39m c\u001b[39m.\u001b[39mtanh())\u001b[39m.\u001b[39mdropout(\u001b[39mself\u001b[39m\u001b[39m.\u001b[39mdropout)\n\u001b[0;32m---> 25\u001b[0m \u001b[39mreturn\u001b[39;00m Tensor\u001b[39m.\u001b[39;49mcat(h, c)\u001b[39m.\u001b[39;49mrealize()\n",
      "File \u001b[0;32m~/friends/dkormann/tinygrad/tinygrad/tensor.py:105\u001b[0m, in \u001b[0;36mTensor.realize\u001b[0;34m(self)\u001b[0m\n\u001b[1;32m    104\u001b[0m \u001b[39mdef\u001b[39;00m \u001b[39mrealize\u001b[39m(\u001b[39mself\u001b[39m) \u001b[39m-\u001b[39m\u001b[39m>\u001b[39m Tensor:\n\u001b[0;32m--> 105\u001b[0m   run_schedule(\u001b[39mself\u001b[39;49m\u001b[39m.\u001b[39;49mlazydata\u001b[39m.\u001b[39;49mschedule())\n\u001b[1;32m    106\u001b[0m   \u001b[39mreturn\u001b[39;00m \u001b[39mself\u001b[39m\n",
      "File \u001b[0;32m~/friends/dkormann/tinygrad/tinygrad/realize.py:30\u001b[0m, in \u001b[0;36mrun_schedule\u001b[0;34m(schedule, disable_logging)\u001b[0m\n\u001b[1;32m     27\u001b[0m         \u001b[39mbreak\u001b[39;00m\n\u001b[1;32m     28\u001b[0m \u001b[39m# we don't have an output buffer, we have to create it, and create to max size if it has symbolic shape\u001b[39;00m\n\u001b[1;32m     29\u001b[0m si\u001b[39m.\u001b[39mout\u001b[39m.\u001b[39mrealized \u001b[39m=\u001b[39m si\u001b[39m.\u001b[39mout\u001b[39m.\u001b[39moutput_buffer \u001b[39mif\u001b[39;00m si\u001b[39m.\u001b[39mout\u001b[39m.\u001b[39moutput_buffer \u001b[39mis\u001b[39;00m \u001b[39mnot\u001b[39;00m \u001b[39mNone\u001b[39;00m \u001b[39melse\u001b[39;00m \\\n\u001b[0;32m---> 30\u001b[0m   Device[si\u001b[39m.\u001b[39;49mout\u001b[39m.\u001b[39;49mdevice]\u001b[39m.\u001b[39;49mbuffer(prod((s \u001b[39mif\u001b[39;49;00m \u001b[39misinstance\u001b[39;49m(s, \u001b[39mint\u001b[39;49m) \u001b[39melse\u001b[39;49;00m s\u001b[39m.\u001b[39;49mmax \u001b[39mfor\u001b[39;49;00m s \u001b[39min\u001b[39;49;00m si\u001b[39m.\u001b[39;49mout\u001b[39m.\u001b[39;49mshape)), si\u001b[39m.\u001b[39;49mout\u001b[39m.\u001b[39;49mdtype, \u001b[39m*\u001b[39;49m\u001b[39m*\u001b[39;49msi\u001b[39m.\u001b[39;49mout\u001b[39m.\u001b[39;49m_device_extra_args())\n\u001b[1;32m     31\u001b[0m \u001b[39mif\u001b[39;00m si\u001b[39m.\u001b[39mast\u001b[39m.\u001b[39mop \u001b[39min\u001b[39;00m LoadOps:\n\u001b[1;32m     32\u001b[0m   \u001b[39m# confirm the LoadOps are contiguous and in order\u001b[39;00m\n\u001b[1;32m     33\u001b[0m   \u001b[39mfor\u001b[39;00m i,s \u001b[39min\u001b[39;00m \u001b[39menumerate\u001b[39m(si\u001b[39m.\u001b[39mast\u001b[39m.\u001b[39msrc): \u001b[39massert\u001b[39;00m \u001b[39misinstance\u001b[39m(s, LazyOp) \u001b[39mand\u001b[39;00m s\u001b[39m.\u001b[39mop \u001b[39m==\u001b[39m BufferOps\u001b[39m.\u001b[39mLOAD \u001b[39mand\u001b[39;00m s\u001b[39m.\u001b[39marg\u001b[39m.\u001b[39midx \u001b[39m==\u001b[39m i\u001b[39m+\u001b[39m\u001b[39m1\u001b[39m \u001b[39mand\u001b[39;00m s\u001b[39m.\u001b[39marg\u001b[39m.\u001b[39mst\u001b[39m.\u001b[39mcontiguous, \u001b[39mf\u001b[39m\u001b[39m\"\u001b[39m\u001b[39mbad LoadOps src \u001b[39m\u001b[39m{\u001b[39;00mi\u001b[39m}\u001b[39;00m\u001b[39m: \u001b[39m\u001b[39m{\u001b[39;00ms\u001b[39m}\u001b[39;00m\u001b[39m\"\u001b[39m\n",
      "File \u001b[0;32m~/friends/dkormann/tinygrad/tinygrad/runtime/ops_gpu.py:50\u001b[0m, in \u001b[0;36mCLBuffer.__init__\u001b[0;34m(self, size, dtype, device)\u001b[0m\n\u001b[0;32m---> 50\u001b[0m \u001b[39mdef\u001b[39;00m \u001b[39m__init__\u001b[39m(\u001b[39mself\u001b[39m, size, dtype, device\u001b[39m=\u001b[39m\u001b[39m'\u001b[39m\u001b[39m0\u001b[39m\u001b[39m'\u001b[39m): \u001b[39msuper\u001b[39;49m()\u001b[39m.\u001b[39;49m\u001b[39m__init__\u001b[39;49m(size, dtype, allocator\u001b[39m=\u001b[39;49mCL\u001b[39m.\u001b[39;49mcl_allocator, \u001b[39m*\u001b[39;49m\u001b[39m*\u001b[39;49m{\u001b[39m'\u001b[39;49m\u001b[39mdevice\u001b[39;49m\u001b[39m'\u001b[39;49m: device})\n",
      "File \u001b[0;32m~/friends/dkormann/tinygrad/tinygrad/runtime/lib.py:13\u001b[0m, in \u001b[0;36mRawBuffer.__init__\u001b[0;34m(self, size, dtype, buf, allocator, **kwargs)\u001b[0m\n\u001b[1;32m     11\u001b[0m \u001b[39mself\u001b[39m\u001b[39m.\u001b[39mdtype: DType \u001b[39m=\u001b[39m dtype\n\u001b[1;32m     12\u001b[0m \u001b[39mself\u001b[39m\u001b[39m.\u001b[39moffset: \u001b[39mint\u001b[39m \u001b[39m=\u001b[39m \u001b[39m0\u001b[39m    \u001b[39m# TODO: this is very unsupported, only in disk\u001b[39;00m\n\u001b[0;32m---> 13\u001b[0m \u001b[39mself\u001b[39m\u001b[39m.\u001b[39m_buf \u001b[39m=\u001b[39m buf \u001b[39mif\u001b[39;00m buf \u001b[39mis\u001b[39;00m \u001b[39mnot\u001b[39;00m \u001b[39mNone\u001b[39;00m \u001b[39melse\u001b[39;00m (allocator(size, dtype, \u001b[39m*\u001b[39;49m\u001b[39m*\u001b[39;49mkwargs) \u001b[39mif\u001b[39;00m allocator \u001b[39melse\u001b[39;00m \u001b[39mNone\u001b[39;00m) \u001b[39m# If buf is provided, use it. Otherwise try to allocate from the allocator.\u001b[39;00m\n\u001b[1;32m     14\u001b[0m \u001b[39mself\u001b[39m\u001b[39m.\u001b[39m_memsz: \u001b[39mint\u001b[39m \u001b[39m=\u001b[39m size\u001b[39m*\u001b[39mdtype\u001b[39m.\u001b[39mitemsize\n\u001b[1;32m     15\u001b[0m \u001b[39mself\u001b[39m\u001b[39m.\u001b[39m_allocator \u001b[39m=\u001b[39m allocator\n",
      "File \u001b[0;32m~/friends/dkormann/tinygrad/tinygrad/runtime/lib.py:92\u001b[0m, in \u001b[0;36mLRUAllocator.__call__\u001b[0;34m(self, size, dtype, device, **kwargs)\u001b[0m\n\u001b[1;32m     90\u001b[0m \u001b[39mdef\u001b[39;00m \u001b[39m__call__\u001b[39m(\u001b[39mself\u001b[39m, size, dtype, device\u001b[39m=\u001b[39m\u001b[39m'\u001b[39m\u001b[39m0\u001b[39m\u001b[39m'\u001b[39m, \u001b[39m*\u001b[39m\u001b[39m*\u001b[39mkwargs): \u001b[39m# allocate\u001b[39;00m\n\u001b[1;32m     91\u001b[0m   rawbufs \u001b[39m=\u001b[39m \u001b[39mself\u001b[39m\u001b[39m.\u001b[39mcached_buffers\u001b[39m.\u001b[39mget(\u001b[39mself\u001b[39m\u001b[39m.\u001b[39m_cached_bufkey(size, dtype, device), \u001b[39mNone\u001b[39;00m)\n\u001b[0;32m---> 92\u001b[0m   \u001b[39mreturn\u001b[39;00m \u001b[39mself\u001b[39m\u001b[39m.\u001b[39m_cache_reuse_buffer(rawbufs) \u001b[39mif\u001b[39;00m rawbufs \u001b[39melse\u001b[39;00m \u001b[39mself\u001b[39;49m\u001b[39m.\u001b[39;49m_alloc_buffer(size, dtype, device, \u001b[39m*\u001b[39;49m\u001b[39m*\u001b[39;49mkwargs)\n",
      "File \u001b[0;32m~/friends/dkormann/tinygrad/tinygrad/runtime/lib.py:72\u001b[0m, in \u001b[0;36mLRUAllocator._alloc_buffer\u001b[0;34m(self, size, dtype, device, **kwargs)\u001b[0m\n\u001b[1;32m     71\u001b[0m \u001b[39mdef\u001b[39;00m \u001b[39m_alloc_buffer\u001b[39m(\u001b[39mself\u001b[39m, size, dtype, device, \u001b[39m*\u001b[39m\u001b[39m*\u001b[39mkwargs):\n\u001b[0;32m---> 72\u001b[0m   \u001b[39mself\u001b[39;49m\u001b[39m.\u001b[39;49mensure_has_free_space(size\u001b[39m*\u001b[39;49mdtype\u001b[39m.\u001b[39;49mitemsize, device)\n\u001b[1;32m     73\u001b[0m   \u001b[39mwhile\u001b[39;00m \u001b[39mTrue\u001b[39;00m:\n\u001b[1;32m     74\u001b[0m     \u001b[39mtry\u001b[39;00m:\n",
      "File \u001b[0;32m~/friends/dkormann/tinygrad/tinygrad/runtime/lib.py:69\u001b[0m, in \u001b[0;36mLRUAllocator.ensure_has_free_space\u001b[0;34m(self, space_to_free, device)\u001b[0m\n\u001b[1;32m     67\u001b[0m   bucket, epoch \u001b[39m=\u001b[39m \u001b[39mself\u001b[39m\u001b[39m.\u001b[39maging_order[device]\u001b[39m.\u001b[39mpopleft()\n\u001b[1;32m     68\u001b[0m   \u001b[39mif\u001b[39;00m \u001b[39mself\u001b[39m\u001b[39m.\u001b[39mcached_buffers[bucket] \u001b[39mand\u001b[39;00m \u001b[39mself\u001b[39m\u001b[39m.\u001b[39mcached_buffers[bucket][\u001b[39m-\u001b[39m\u001b[39m1\u001b[39m][\u001b[39m1\u001b[39m] \u001b[39m==\u001b[39m epoch: \u001b[39mself\u001b[39m\u001b[39m.\u001b[39m_free_buffer(\u001b[39mself\u001b[39m\u001b[39m.\u001b[39mcached_buffers[bucket]\u001b[39m.\u001b[39mpop()[\u001b[39m0\u001b[39m]) \u001b[39m# Free cached buffer if it is still in cache.\u001b[39;00m\n\u001b[0;32m---> 69\u001b[0m \u001b[39massert\u001b[39;00m (curr_free \u001b[39m:=\u001b[39m \u001b[39mself\u001b[39m\u001b[39m.\u001b[39m_get_cur_free_space(device)) \u001b[39m>\u001b[39m space_to_free, \u001b[39mf\u001b[39m\u001b[39m\"\u001b[39m\u001b[39mout of memory - requested: \u001b[39m\u001b[39m{\u001b[39;00mspace_to_free\u001b[39m/\u001b[39m\u001b[39m1e9\u001b[39m\u001b[39m:\u001b[39;00m\u001b[39m5.2f\u001b[39m\u001b[39m}\u001b[39;00m\u001b[39m GB, available: \u001b[39m\u001b[39m{\u001b[39;00mcurr_free\u001b[39m/\u001b[39m\u001b[39m1e9\u001b[39m\u001b[39m:\u001b[39;00m\u001b[39m5.2f\u001b[39m\u001b[39m}\u001b[39;00m\u001b[39m GB\u001b[39m\u001b[39m\"\u001b[39m\n",
      "\u001b[0;31mAssertionError\u001b[0m: out of memory - requested:  0.02 GB, available:  0.01 GB"
     ]
    }
   ],
   "source": [
    "X,labels = next(iterate(4))\n",
    "X,X_lens = X\n",
    "labels,Y_lens = text_encode(labels)\n",
    "X,X_lens = rnnt.encoder.__call__(Tensor(X),X_lens) # LSTM expects (N,B,D)\n",
    "Y,_ = rnnt.prediction(Tensor(labels),None,1)\n",
    "Y = Y.pad(((0,0),(1,0),(0,0)))\n",
    "d = rnnt.joint(X,Y).softmax(-1)\n",
    "\n",
    "d = d.pad(((0,0),(0,1),(0,0),(0,0)))\n",
    "\n",
    "maxx = max(X_lens) + 1\n",
    "ar = Tensor.arange(maxx)\n",
    "mask = (ar.unsqueeze(1) < Tensor(X_lens)).T\n",
    "d = d * mask.unsqueeze(-1).unsqueeze(-1)\n",
    "skip_mask = Tensor.eye(128)[Tensor(Y_lens)].unsqueeze(1).mul(1-mask.unsqueeze(-1))\n",
    "skip_mask = skip_mask.unsqueeze(-1).mul(Tensor([0]*(C-1)+[1]).reshape((1,1,1,C)))\n",
    "d = d + skip_mask\n",
    "X,Y,d"
   ]
  },
  {
   "cell_type": "code",
   "execution_count": 75,
   "metadata": {},
   "outputs": [
    {
     "ename": "AssertionError",
     "evalue": "out of memory - requested:  0.01 GB, available:  0.01 GB",
     "output_type": "error",
     "traceback": [
      "\u001b[0;31m---------------------------------------------------------------------------\u001b[0m",
      "\u001b[0;31mAssertionError\u001b[0m                            Traceback (most recent call last)",
      "\u001b[1;32m/Users/kierkegaard/friends/dkormann/tinygrad/examples/mlperf/rnnt/rnnt.ipynb Cell 28\u001b[0m line \u001b[0;36m1\n\u001b[0;32m----> <a href='vscode-notebook-cell:/Users/kierkegaard/friends/dkormann/tinygrad/examples/mlperf/rnnt/rnnt.ipynb#X43sZmlsZQ%3D%3D?line=0'>1</a>\u001b[0m loss \u001b[39m=\u001b[39m TransducerLoss\u001b[39m.\u001b[39;49mapply(d,\n\u001b[1;32m      <a href='vscode-notebook-cell:/Users/kierkegaard/friends/dkormann/tinygrad/examples/mlperf/rnnt/rnnt.ipynb#X43sZmlsZQ%3D%3D?line=1'>2</a>\u001b[0m                      Tensor(labels),\n\u001b[1;32m      <a href='vscode-notebook-cell:/Users/kierkegaard/friends/dkormann/tinygrad/examples/mlperf/rnnt/rnnt.ipynb#X43sZmlsZQ%3D%3D?line=2'>3</a>\u001b[0m                      )\n",
      "File \u001b[0;32m~/friends/dkormann/tinygrad/tinygrad/tensor.py:30\u001b[0m, in \u001b[0;36mFunction.apply\u001b[0;34m(fxn, *x, **kwargs)\u001b[0m\n\u001b[1;32m     27\u001b[0m \u001b[39m@classmethod\u001b[39m\n\u001b[1;32m     28\u001b[0m \u001b[39mdef\u001b[39;00m \u001b[39mapply\u001b[39m(fxn:Type[Function], \u001b[39m*\u001b[39mx:Tensor, \u001b[39m*\u001b[39m\u001b[39m*\u001b[39mkwargs) \u001b[39m-\u001b[39m\u001b[39m>\u001b[39m Tensor:\n\u001b[1;32m     29\u001b[0m   ctx \u001b[39m=\u001b[39m fxn(x[\u001b[39m0\u001b[39m]\u001b[39m.\u001b[39mdevice, \u001b[39m*\u001b[39mx)\n\u001b[0;32m---> 30\u001b[0m   ret \u001b[39m=\u001b[39m Tensor(ctx\u001b[39m.\u001b[39;49mforward(\u001b[39m*\u001b[39;49m[t\u001b[39m.\u001b[39;49mlazydata \u001b[39mfor\u001b[39;49;00m t \u001b[39min\u001b[39;49;00m x], \u001b[39m*\u001b[39;49m\u001b[39m*\u001b[39;49mkwargs), device\u001b[39m=\u001b[39mctx\u001b[39m.\u001b[39mdevice, requires_grad\u001b[39m=\u001b[39mctx\u001b[39m.\u001b[39mrequires_grad)\n\u001b[1;32m     31\u001b[0m   \u001b[39mif\u001b[39;00m ctx\u001b[39m.\u001b[39mrequires_grad \u001b[39mand\u001b[39;00m \u001b[39mnot\u001b[39;00m Tensor\u001b[39m.\u001b[39mno_grad: ret\u001b[39m.\u001b[39m_ctx \u001b[39m=\u001b[39m ctx    \u001b[39m# used by autograd engine\u001b[39;00m\n\u001b[1;32m     32\u001b[0m   \u001b[39mreturn\u001b[39;00m ret\n",
      "\u001b[1;32m/Users/kierkegaard/friends/dkormann/tinygrad/examples/mlperf/rnnt/rnnt.ipynb Cell 28\u001b[0m line \u001b[0;36m4\n\u001b[1;32m     <a href='vscode-notebook-cell:/Users/kierkegaard/friends/dkormann/tinygrad/examples/mlperf/rnnt/rnnt.ipynb#X43sZmlsZQ%3D%3D?line=38'>39</a>\u001b[0m \u001b[39mself\u001b[39m\u001b[39m.\u001b[39ma \u001b[39m=\u001b[39m [Tensor([\u001b[39m0\u001b[39m]\u001b[39m*\u001b[39m\u001b[39mself\u001b[39m\u001b[39m.\u001b[39mB)\u001b[39m.\u001b[39mreshape(\u001b[39m-\u001b[39m\u001b[39m1\u001b[39m,\u001b[39m1\u001b[39m)\u001b[39m.\u001b[39mpad(((\u001b[39m0\u001b[39m,\u001b[39m0\u001b[39m),(\u001b[39m0\u001b[39m,\u001b[39mself\u001b[39m\u001b[39m.\u001b[39mY\u001b[39m-\u001b[39m\u001b[39m1\u001b[39m),),\u001b[39m-\u001b[39minf)\u001b[39m.\u001b[39mrealize()]\n\u001b[1;32m     <a href='vscode-notebook-cell:/Users/kierkegaard/friends/dkormann/tinygrad/examples/mlperf/rnnt/rnnt.ipynb#X43sZmlsZQ%3D%3D?line=40'>41</a>\u001b[0m \u001b[39mfor\u001b[39;00m x \u001b[39min\u001b[39;00m \u001b[39mrange\u001b[39m(\u001b[39m0\u001b[39m,\u001b[39mself\u001b[39m\u001b[39m.\u001b[39mX\u001b[39m-\u001b[39m\u001b[39m1\u001b[39m):\n\u001b[0;32m---> <a href='vscode-notebook-cell:/Users/kierkegaard/friends/dkormann/tinygrad/examples/mlperf/rnnt/rnnt.ipynb#X43sZmlsZQ%3D%3D?line=41'>42</a>\u001b[0m     \u001b[39mself\u001b[39m\u001b[39m.\u001b[39ma\u001b[39m.\u001b[39mappend(logsumexp((\u001b[39mself\u001b[39m\u001b[39m.\u001b[39ma[\u001b[39m-\u001b[39m\u001b[39m1\u001b[39m] \u001b[39m+\u001b[39m \u001b[39mself\u001b[39m\u001b[39m.\u001b[39mskip[:,x,:])\u001b[39m.\u001b[39mrealize(), (\u001b[39mself\u001b[39;49m\u001b[39m.\u001b[39;49ma[\u001b[39m-\u001b[39;49m\u001b[39m1\u001b[39;49m][:,:\u001b[39m-\u001b[39;49m\u001b[39m1\u001b[39;49m]\u001b[39m.\u001b[39;49mpad(((\u001b[39m0\u001b[39;49m,\u001b[39m0\u001b[39;49m),(\u001b[39m1\u001b[39;49m,\u001b[39m0\u001b[39;49m),),\u001b[39m-\u001b[39;49minf)\u001b[39m.\u001b[39;49mrealize() \u001b[39m+\u001b[39;49m \u001b[39mself\u001b[39;49m\u001b[39m.\u001b[39;49mp[:,x,:\u001b[39m-\u001b[39;49m\u001b[39m1\u001b[39;49m]\u001b[39m.\u001b[39;49mpad(((\u001b[39m0\u001b[39;49m,\u001b[39m0\u001b[39;49m),(\u001b[39m1\u001b[39;49m,\u001b[39m0\u001b[39;49m),),\u001b[39m-\u001b[39;49minf))\u001b[39m.\u001b[39;49mrealize()))\n\u001b[1;32m     <a href='vscode-notebook-cell:/Users/kierkegaard/friends/dkormann/tinygrad/examples/mlperf/rnnt/rnnt.ipynb#X43sZmlsZQ%3D%3D?line=43'>44</a>\u001b[0m \u001b[39mreturn\u001b[39;00m (\u001b[39m-\u001b[39m\u001b[39mself\u001b[39m\u001b[39m.\u001b[39ma[\u001b[39m-\u001b[39m\u001b[39m1\u001b[39m][:,\u001b[39m-\u001b[39m\u001b[39m1\u001b[39m] \u001b[39m-\u001b[39m \u001b[39mself\u001b[39m\u001b[39m.\u001b[39mskip[:,\u001b[39m-\u001b[39m\u001b[39m1\u001b[39m,\u001b[39m-\u001b[39m\u001b[39m1\u001b[39m])\u001b[39m.\u001b[39msum()\u001b[39m.\u001b[39mlazydata\n",
      "File \u001b[0;32m~/friends/dkormann/tinygrad/tinygrad/tensor.py:105\u001b[0m, in \u001b[0;36mTensor.realize\u001b[0;34m(self)\u001b[0m\n\u001b[1;32m    104\u001b[0m \u001b[39mdef\u001b[39;00m \u001b[39mrealize\u001b[39m(\u001b[39mself\u001b[39m) \u001b[39m-\u001b[39m\u001b[39m>\u001b[39m Tensor:\n\u001b[0;32m--> 105\u001b[0m   run_schedule(\u001b[39mself\u001b[39;49m\u001b[39m.\u001b[39;49mlazydata\u001b[39m.\u001b[39;49mschedule())\n\u001b[1;32m    106\u001b[0m   \u001b[39mreturn\u001b[39;00m \u001b[39mself\u001b[39m\n",
      "File \u001b[0;32m~/friends/dkormann/tinygrad/tinygrad/realize.py:30\u001b[0m, in \u001b[0;36mrun_schedule\u001b[0;34m(schedule, disable_logging)\u001b[0m\n\u001b[1;32m     27\u001b[0m         \u001b[39mbreak\u001b[39;00m\n\u001b[1;32m     28\u001b[0m \u001b[39m# we don't have an output buffer, we have to create it, and create to max size if it has symbolic shape\u001b[39;00m\n\u001b[1;32m     29\u001b[0m si\u001b[39m.\u001b[39mout\u001b[39m.\u001b[39mrealized \u001b[39m=\u001b[39m si\u001b[39m.\u001b[39mout\u001b[39m.\u001b[39moutput_buffer \u001b[39mif\u001b[39;00m si\u001b[39m.\u001b[39mout\u001b[39m.\u001b[39moutput_buffer \u001b[39mis\u001b[39;00m \u001b[39mnot\u001b[39;00m \u001b[39mNone\u001b[39;00m \u001b[39melse\u001b[39;00m \\\n\u001b[0;32m---> 30\u001b[0m   Device[si\u001b[39m.\u001b[39;49mout\u001b[39m.\u001b[39;49mdevice]\u001b[39m.\u001b[39;49mbuffer(prod((s \u001b[39mif\u001b[39;49;00m \u001b[39misinstance\u001b[39;49m(s, \u001b[39mint\u001b[39;49m) \u001b[39melse\u001b[39;49;00m s\u001b[39m.\u001b[39;49mmax \u001b[39mfor\u001b[39;49;00m s \u001b[39min\u001b[39;49;00m si\u001b[39m.\u001b[39;49mout\u001b[39m.\u001b[39;49mshape)), si\u001b[39m.\u001b[39;49mout\u001b[39m.\u001b[39;49mdtype, \u001b[39m*\u001b[39;49m\u001b[39m*\u001b[39;49msi\u001b[39m.\u001b[39;49mout\u001b[39m.\u001b[39;49m_device_extra_args())\n\u001b[1;32m     31\u001b[0m \u001b[39mif\u001b[39;00m si\u001b[39m.\u001b[39mast\u001b[39m.\u001b[39mop \u001b[39min\u001b[39;00m LoadOps:\n\u001b[1;32m     32\u001b[0m   \u001b[39m# confirm the LoadOps are contiguous and in order\u001b[39;00m\n\u001b[1;32m     33\u001b[0m   \u001b[39mfor\u001b[39;00m i,s \u001b[39min\u001b[39;00m \u001b[39menumerate\u001b[39m(si\u001b[39m.\u001b[39mast\u001b[39m.\u001b[39msrc): \u001b[39massert\u001b[39;00m \u001b[39misinstance\u001b[39m(s, LazyOp) \u001b[39mand\u001b[39;00m s\u001b[39m.\u001b[39mop \u001b[39m==\u001b[39m BufferOps\u001b[39m.\u001b[39mLOAD \u001b[39mand\u001b[39;00m s\u001b[39m.\u001b[39marg\u001b[39m.\u001b[39midx \u001b[39m==\u001b[39m i\u001b[39m+\u001b[39m\u001b[39m1\u001b[39m \u001b[39mand\u001b[39;00m s\u001b[39m.\u001b[39marg\u001b[39m.\u001b[39mst\u001b[39m.\u001b[39mcontiguous, \u001b[39mf\u001b[39m\u001b[39m\"\u001b[39m\u001b[39mbad LoadOps src \u001b[39m\u001b[39m{\u001b[39;00mi\u001b[39m}\u001b[39;00m\u001b[39m: \u001b[39m\u001b[39m{\u001b[39;00ms\u001b[39m}\u001b[39;00m\u001b[39m\"\u001b[39m\n",
      "File \u001b[0;32m~/friends/dkormann/tinygrad/tinygrad/runtime/ops_gpu.py:50\u001b[0m, in \u001b[0;36mCLBuffer.__init__\u001b[0;34m(self, size, dtype, device)\u001b[0m\n\u001b[0;32m---> 50\u001b[0m \u001b[39mdef\u001b[39;00m \u001b[39m__init__\u001b[39m(\u001b[39mself\u001b[39m, size, dtype, device\u001b[39m=\u001b[39m\u001b[39m'\u001b[39m\u001b[39m0\u001b[39m\u001b[39m'\u001b[39m): \u001b[39msuper\u001b[39;49m()\u001b[39m.\u001b[39;49m\u001b[39m__init__\u001b[39;49m(size, dtype, allocator\u001b[39m=\u001b[39;49mCL\u001b[39m.\u001b[39;49mcl_allocator, \u001b[39m*\u001b[39;49m\u001b[39m*\u001b[39;49m{\u001b[39m'\u001b[39;49m\u001b[39mdevice\u001b[39;49m\u001b[39m'\u001b[39;49m: device})\n",
      "File \u001b[0;32m~/friends/dkormann/tinygrad/tinygrad/runtime/lib.py:13\u001b[0m, in \u001b[0;36mRawBuffer.__init__\u001b[0;34m(self, size, dtype, buf, allocator, **kwargs)\u001b[0m\n\u001b[1;32m     11\u001b[0m \u001b[39mself\u001b[39m\u001b[39m.\u001b[39mdtype: DType \u001b[39m=\u001b[39m dtype\n\u001b[1;32m     12\u001b[0m \u001b[39mself\u001b[39m\u001b[39m.\u001b[39moffset: \u001b[39mint\u001b[39m \u001b[39m=\u001b[39m \u001b[39m0\u001b[39m    \u001b[39m# TODO: this is very unsupported, only in disk\u001b[39;00m\n\u001b[0;32m---> 13\u001b[0m \u001b[39mself\u001b[39m\u001b[39m.\u001b[39m_buf \u001b[39m=\u001b[39m buf \u001b[39mif\u001b[39;00m buf \u001b[39mis\u001b[39;00m \u001b[39mnot\u001b[39;00m \u001b[39mNone\u001b[39;00m \u001b[39melse\u001b[39;00m (allocator(size, dtype, \u001b[39m*\u001b[39;49m\u001b[39m*\u001b[39;49mkwargs) \u001b[39mif\u001b[39;00m allocator \u001b[39melse\u001b[39;00m \u001b[39mNone\u001b[39;00m) \u001b[39m# If buf is provided, use it. Otherwise try to allocate from the allocator.\u001b[39;00m\n\u001b[1;32m     14\u001b[0m \u001b[39mself\u001b[39m\u001b[39m.\u001b[39m_memsz: \u001b[39mint\u001b[39m \u001b[39m=\u001b[39m size\u001b[39m*\u001b[39mdtype\u001b[39m.\u001b[39mitemsize\n\u001b[1;32m     15\u001b[0m \u001b[39mself\u001b[39m\u001b[39m.\u001b[39m_allocator \u001b[39m=\u001b[39m allocator\n",
      "File \u001b[0;32m~/friends/dkormann/tinygrad/tinygrad/runtime/lib.py:92\u001b[0m, in \u001b[0;36mLRUAllocator.__call__\u001b[0;34m(self, size, dtype, device, **kwargs)\u001b[0m\n\u001b[1;32m     90\u001b[0m \u001b[39mdef\u001b[39;00m \u001b[39m__call__\u001b[39m(\u001b[39mself\u001b[39m, size, dtype, device\u001b[39m=\u001b[39m\u001b[39m'\u001b[39m\u001b[39m0\u001b[39m\u001b[39m'\u001b[39m, \u001b[39m*\u001b[39m\u001b[39m*\u001b[39mkwargs): \u001b[39m# allocate\u001b[39;00m\n\u001b[1;32m     91\u001b[0m   rawbufs \u001b[39m=\u001b[39m \u001b[39mself\u001b[39m\u001b[39m.\u001b[39mcached_buffers\u001b[39m.\u001b[39mget(\u001b[39mself\u001b[39m\u001b[39m.\u001b[39m_cached_bufkey(size, dtype, device), \u001b[39mNone\u001b[39;00m)\n\u001b[0;32m---> 92\u001b[0m   \u001b[39mreturn\u001b[39;00m \u001b[39mself\u001b[39m\u001b[39m.\u001b[39m_cache_reuse_buffer(rawbufs) \u001b[39mif\u001b[39;00m rawbufs \u001b[39melse\u001b[39;00m \u001b[39mself\u001b[39;49m\u001b[39m.\u001b[39;49m_alloc_buffer(size, dtype, device, \u001b[39m*\u001b[39;49m\u001b[39m*\u001b[39;49mkwargs)\n",
      "File \u001b[0;32m~/friends/dkormann/tinygrad/tinygrad/runtime/lib.py:72\u001b[0m, in \u001b[0;36mLRUAllocator._alloc_buffer\u001b[0;34m(self, size, dtype, device, **kwargs)\u001b[0m\n\u001b[1;32m     71\u001b[0m \u001b[39mdef\u001b[39;00m \u001b[39m_alloc_buffer\u001b[39m(\u001b[39mself\u001b[39m, size, dtype, device, \u001b[39m*\u001b[39m\u001b[39m*\u001b[39mkwargs):\n\u001b[0;32m---> 72\u001b[0m   \u001b[39mself\u001b[39;49m\u001b[39m.\u001b[39;49mensure_has_free_space(size\u001b[39m*\u001b[39;49mdtype\u001b[39m.\u001b[39;49mitemsize, device)\n\u001b[1;32m     73\u001b[0m   \u001b[39mwhile\u001b[39;00m \u001b[39mTrue\u001b[39;00m:\n\u001b[1;32m     74\u001b[0m     \u001b[39mtry\u001b[39;00m:\n",
      "File \u001b[0;32m~/friends/dkormann/tinygrad/tinygrad/runtime/lib.py:69\u001b[0m, in \u001b[0;36mLRUAllocator.ensure_has_free_space\u001b[0;34m(self, space_to_free, device)\u001b[0m\n\u001b[1;32m     67\u001b[0m   bucket, epoch \u001b[39m=\u001b[39m \u001b[39mself\u001b[39m\u001b[39m.\u001b[39maging_order[device]\u001b[39m.\u001b[39mpopleft()\n\u001b[1;32m     68\u001b[0m   \u001b[39mif\u001b[39;00m \u001b[39mself\u001b[39m\u001b[39m.\u001b[39mcached_buffers[bucket] \u001b[39mand\u001b[39;00m \u001b[39mself\u001b[39m\u001b[39m.\u001b[39mcached_buffers[bucket][\u001b[39m-\u001b[39m\u001b[39m1\u001b[39m][\u001b[39m1\u001b[39m] \u001b[39m==\u001b[39m epoch: \u001b[39mself\u001b[39m\u001b[39m.\u001b[39m_free_buffer(\u001b[39mself\u001b[39m\u001b[39m.\u001b[39mcached_buffers[bucket]\u001b[39m.\u001b[39mpop()[\u001b[39m0\u001b[39m]) \u001b[39m# Free cached buffer if it is still in cache.\u001b[39;00m\n\u001b[0;32m---> 69\u001b[0m \u001b[39massert\u001b[39;00m (curr_free \u001b[39m:=\u001b[39m \u001b[39mself\u001b[39m\u001b[39m.\u001b[39m_get_cur_free_space(device)) \u001b[39m>\u001b[39m space_to_free, \u001b[39mf\u001b[39m\u001b[39m\"\u001b[39m\u001b[39mout of memory - requested: \u001b[39m\u001b[39m{\u001b[39;00mspace_to_free\u001b[39m/\u001b[39m\u001b[39m1e9\u001b[39m\u001b[39m:\u001b[39;00m\u001b[39m5.2f\u001b[39m\u001b[39m}\u001b[39;00m\u001b[39m GB, available: \u001b[39m\u001b[39m{\u001b[39;00mcurr_free\u001b[39m/\u001b[39m\u001b[39m1e9\u001b[39m\u001b[39m:\u001b[39;00m\u001b[39m5.2f\u001b[39m\u001b[39m}\u001b[39;00m\u001b[39m GB\u001b[39m\u001b[39m\"\u001b[39m\n",
      "\u001b[0;31mAssertionError\u001b[0m: out of memory - requested:  0.01 GB, available:  0.01 GB"
     ]
    }
   ],
   "source": [
    "loss = TransducerLoss.apply(d,\n",
    "                     Tensor(labels),\n",
    "                     )"
   ]
  },
  {
   "cell_type": "code",
   "execution_count": 70,
   "metadata": {},
   "outputs": [],
   "source": [
    "ctx = loss._ctx"
   ]
  },
  {
   "cell_type": "code",
   "execution_count": 54,
   "metadata": {},
   "outputs": [
    {
     "name": "stdout",
     "output_type": "stream",
     "text": [
      "\u001b[0;31mSignature:\u001b[0m\n",
      "\u001b[0mTransducerLoss\u001b[0m\u001b[0;34m.\u001b[0m\u001b[0mforward\u001b[0m\u001b[0;34m(\u001b[0m\u001b[0;34m\u001b[0m\n",
      "\u001b[0;34m\u001b[0m    \u001b[0mself\u001b[0m\u001b[0;34m,\u001b[0m\u001b[0;34m\u001b[0m\n",
      "\u001b[0;34m\u001b[0m    \u001b[0md\u001b[0m\u001b[0;34m:\u001b[0m \u001b[0mtinygrad\u001b[0m\u001b[0;34m.\u001b[0m\u001b[0mtensor\u001b[0m\u001b[0;34m.\u001b[0m\u001b[0mTensor\u001b[0m\u001b[0;34m,\u001b[0m\u001b[0;34m\u001b[0m\n",
      "\u001b[0;34m\u001b[0m    \u001b[0mlabels\u001b[0m\u001b[0;34m:\u001b[0m \u001b[0mtinygrad\u001b[0m\u001b[0;34m.\u001b[0m\u001b[0mtensor\u001b[0m\u001b[0;34m.\u001b[0m\u001b[0mTensor\u001b[0m\u001b[0;34m,\u001b[0m\u001b[0;34m\u001b[0m\n",
      "\u001b[0;34m\u001b[0m\u001b[0;34m)\u001b[0m\u001b[0;34m\u001b[0m\u001b[0;34m\u001b[0m\u001b[0m\n",
      "\u001b[0;31mDocstring:\u001b[0m <no docstring>\n",
      "\u001b[0;31mSource:\u001b[0m   \n",
      "    \u001b[0;32mdef\u001b[0m \u001b[0mforward\u001b[0m\u001b[0;34m(\u001b[0m\u001b[0mself\u001b[0m\u001b[0;34m,\u001b[0m \u001b[0md\u001b[0m\u001b[0;34m:\u001b[0m\u001b[0mTensor\u001b[0m\u001b[0;34m,\u001b[0m \u001b[0mlabels\u001b[0m\u001b[0;34m:\u001b[0m\u001b[0mTensor\u001b[0m\u001b[0;34m)\u001b[0m\u001b[0;34m:\u001b[0m\u001b[0;34m\u001b[0m\n",
      "\u001b[0;34m\u001b[0m        \u001b[0mself\u001b[0m\u001b[0;34m.\u001b[0m\u001b[0mB\u001b[0m\u001b[0;34m,\u001b[0m\u001b[0mself\u001b[0m\u001b[0;34m.\u001b[0m\u001b[0mX\u001b[0m\u001b[0;34m,\u001b[0m\u001b[0mself\u001b[0m\u001b[0;34m.\u001b[0m\u001b[0mY\u001b[0m\u001b[0;34m,\u001b[0m\u001b[0mself\u001b[0m\u001b[0;34m.\u001b[0m\u001b[0mC\u001b[0m \u001b[0;34m=\u001b[0m \u001b[0md\u001b[0m\u001b[0;34m.\u001b[0m\u001b[0mshape\u001b[0m\u001b[0;34m\u001b[0m\n",
      "\u001b[0;34m\u001b[0m\u001b[0;34m\u001b[0m\n",
      "\u001b[0;34m\u001b[0m        \u001b[0mself\u001b[0m\u001b[0;34m.\u001b[0m\u001b[0mlabels\u001b[0m \u001b[0;34m=\u001b[0m \u001b[0mTensor\u001b[0m\u001b[0;34m(\u001b[0m\u001b[0mlabels\u001b[0m\u001b[0;34m)\u001b[0m\u001b[0;34m.\u001b[0m\u001b[0mpad\u001b[0m\u001b[0;34m(\u001b[0m\u001b[0;34m(\u001b[0m\u001b[0;34m(\u001b[0m\u001b[0;36m0\u001b[0m\u001b[0;34m,\u001b[0m\u001b[0;36m0\u001b[0m\u001b[0;34m)\u001b[0m\u001b[0;34m,\u001b[0m\u001b[0;34m(\u001b[0m\u001b[0;36m0\u001b[0m\u001b[0;34m,\u001b[0m\u001b[0;36m1\u001b[0m\u001b[0;34m)\u001b[0m\u001b[0;34m)\u001b[0m\u001b[0;34m)\u001b[0m\u001b[0;34m\u001b[0m\n",
      "\u001b[0;34m\u001b[0m        \u001b[0mself\u001b[0m\u001b[0;34m.\u001b[0m\u001b[0mlattice\u001b[0m \u001b[0;34m=\u001b[0m \u001b[0mshear\u001b[0m\u001b[0;34m(\u001b[0m\u001b[0mTensor\u001b[0m\u001b[0;34m(\u001b[0m\u001b[0md\u001b[0m\u001b[0;34m)\u001b[0m\u001b[0;34m)\u001b[0m\u001b[0;34m\u001b[0m\n",
      "\u001b[0;34m\u001b[0m        \u001b[0mself\u001b[0m\u001b[0;34m.\u001b[0m\u001b[0mX\u001b[0m \u001b[0;34m=\u001b[0m \u001b[0mself\u001b[0m\u001b[0;34m.\u001b[0m\u001b[0mX\u001b[0m\u001b[0;34m+\u001b[0m\u001b[0mself\u001b[0m\u001b[0;34m.\u001b[0m\u001b[0mY\u001b[0m\u001b[0;34m-\u001b[0m\u001b[0;36m1\u001b[0m\u001b[0;34m\u001b[0m\n",
      "\u001b[0;34m\u001b[0m        \u001b[0;32massert\u001b[0m \u001b[0mself\u001b[0m\u001b[0;34m.\u001b[0m\u001b[0mlattice\u001b[0m\u001b[0;34m.\u001b[0m\u001b[0mshape\u001b[0m \u001b[0;34m==\u001b[0m \u001b[0;34m(\u001b[0m\u001b[0mself\u001b[0m\u001b[0;34m.\u001b[0m\u001b[0mB\u001b[0m\u001b[0;34m,\u001b[0m\u001b[0mself\u001b[0m\u001b[0;34m.\u001b[0m\u001b[0mX\u001b[0m\u001b[0;34m,\u001b[0m\u001b[0mself\u001b[0m\u001b[0;34m.\u001b[0m\u001b[0mY\u001b[0m\u001b[0;34m,\u001b[0m\u001b[0mself\u001b[0m\u001b[0;34m.\u001b[0m\u001b[0mC\u001b[0m\u001b[0;34m)\u001b[0m\u001b[0;34m,\u001b[0m \u001b[0;34mf\"{self.lattice.shape}\"\u001b[0m\u001b[0;34m\u001b[0m\n",
      "\u001b[0;34m\u001b[0m\u001b[0;34m\u001b[0m\n",
      "\u001b[0;34m\u001b[0m        \u001b[0mself\u001b[0m\u001b[0;34m.\u001b[0m\u001b[0mskip\u001b[0m \u001b[0;34m=\u001b[0m \u001b[0mself\u001b[0m\u001b[0;34m.\u001b[0m\u001b[0mlattice\u001b[0m\u001b[0;34m[\u001b[0m\u001b[0;34m:\u001b[0m\u001b[0;34m,\u001b[0m\u001b[0;34m:\u001b[0m\u001b[0;34m,\u001b[0m\u001b[0;34m:\u001b[0m\u001b[0;34m,\u001b[0m\u001b[0;34m-\u001b[0m\u001b[0;36m1\u001b[0m\u001b[0;34m]\u001b[0m\u001b[0;34m.\u001b[0m\u001b[0mlog\u001b[0m\u001b[0;34m(\u001b[0m\u001b[0;34m)\u001b[0m\u001b[0;34m\u001b[0m\n",
      "\u001b[0;34m\u001b[0m        \u001b[0mself\u001b[0m\u001b[0;34m.\u001b[0m\u001b[0mp\u001b[0m \u001b[0;34m=\u001b[0m \u001b[0mself\u001b[0m\u001b[0;34m.\u001b[0m\u001b[0mlattice\u001b[0m\u001b[0;34m[\u001b[0m\u001b[0;34m\u001b[0m\n",
      "\u001b[0;34m\u001b[0m            \u001b[0mTensor\u001b[0m\u001b[0;34m(\u001b[0m\u001b[0mnp\u001b[0m\u001b[0;34m.\u001b[0m\u001b[0marange\u001b[0m\u001b[0;34m(\u001b[0m\u001b[0mself\u001b[0m\u001b[0;34m.\u001b[0m\u001b[0mB\u001b[0m\u001b[0;34m)\u001b[0m\u001b[0;34m.\u001b[0m\u001b[0mreshape\u001b[0m\u001b[0;34m(\u001b[0m\u001b[0;34m(\u001b[0m\u001b[0;34m-\u001b[0m\u001b[0;36m1\u001b[0m\u001b[0;34m,\u001b[0m\u001b[0;36m1\u001b[0m\u001b[0;34m,\u001b[0m\u001b[0;36m1\u001b[0m\u001b[0;34m)\u001b[0m\u001b[0;34m)\u001b[0m\u001b[0;34m)\u001b[0m\u001b[0;34m,\u001b[0m\u001b[0;34m\u001b[0m\n",
      "\u001b[0;34m\u001b[0m            \u001b[0mTensor\u001b[0m\u001b[0;34m(\u001b[0m\u001b[0mnp\u001b[0m\u001b[0;34m.\u001b[0m\u001b[0marange\u001b[0m\u001b[0;34m(\u001b[0m\u001b[0mself\u001b[0m\u001b[0;34m.\u001b[0m\u001b[0mX\u001b[0m\u001b[0;34m)\u001b[0m\u001b[0;34m.\u001b[0m\u001b[0mreshape\u001b[0m\u001b[0;34m(\u001b[0m\u001b[0;34m(\u001b[0m\u001b[0;36m1\u001b[0m\u001b[0;34m,\u001b[0m\u001b[0;34m-\u001b[0m\u001b[0;36m1\u001b[0m\u001b[0;34m,\u001b[0m\u001b[0;36m1\u001b[0m\u001b[0;34m)\u001b[0m\u001b[0;34m)\u001b[0m\u001b[0;34m)\u001b[0m\u001b[0;34m,\u001b[0m\u001b[0;34m\u001b[0m\n",
      "\u001b[0;34m\u001b[0m            \u001b[0mTensor\u001b[0m\u001b[0;34m(\u001b[0m\u001b[0mnp\u001b[0m\u001b[0;34m.\u001b[0m\u001b[0marange\u001b[0m\u001b[0;34m(\u001b[0m\u001b[0mself\u001b[0m\u001b[0;34m.\u001b[0m\u001b[0mY\u001b[0m\u001b[0;34m)\u001b[0m\u001b[0;34m.\u001b[0m\u001b[0mreshape\u001b[0m\u001b[0;34m(\u001b[0m\u001b[0;34m(\u001b[0m\u001b[0;36m1\u001b[0m\u001b[0;34m,\u001b[0m\u001b[0;36m1\u001b[0m\u001b[0;34m,\u001b[0m\u001b[0;34m-\u001b[0m\u001b[0;36m1\u001b[0m\u001b[0;34m)\u001b[0m\u001b[0;34m)\u001b[0m\u001b[0;34m)\u001b[0m\u001b[0;34m,\u001b[0m\u001b[0;34m\u001b[0m\n",
      "\u001b[0;34m\u001b[0m            \u001b[0mself\u001b[0m\u001b[0;34m.\u001b[0m\u001b[0mlabels\u001b[0m\u001b[0;34m.\u001b[0m\u001b[0mreshape\u001b[0m\u001b[0;34m(\u001b[0m\u001b[0;34m(\u001b[0m\u001b[0mself\u001b[0m\u001b[0;34m.\u001b[0m\u001b[0mB\u001b[0m\u001b[0;34m,\u001b[0m\u001b[0;36m1\u001b[0m\u001b[0;34m,\u001b[0m\u001b[0;34m-\u001b[0m\u001b[0;36m1\u001b[0m\u001b[0;34m)\u001b[0m\u001b[0;34m)\u001b[0m\u001b[0;34m]\u001b[0m\u001b[0;34m.\u001b[0m\u001b[0mlog\u001b[0m\u001b[0;34m(\u001b[0m\u001b[0;34m)\u001b[0m\u001b[0;34m\u001b[0m\n",
      "\u001b[0;34m\u001b[0m\u001b[0;34m\u001b[0m\n",
      "\u001b[0;34m\u001b[0m        \u001b[0;32massert\u001b[0m \u001b[0mself\u001b[0m\u001b[0;34m.\u001b[0m\u001b[0mp\u001b[0m\u001b[0;34m.\u001b[0m\u001b[0mshape\u001b[0m \u001b[0;34m==\u001b[0m \u001b[0;34m(\u001b[0m\u001b[0mself\u001b[0m\u001b[0;34m.\u001b[0m\u001b[0mB\u001b[0m\u001b[0;34m,\u001b[0m \u001b[0mself\u001b[0m\u001b[0;34m.\u001b[0m\u001b[0mX\u001b[0m\u001b[0;34m,\u001b[0m \u001b[0mself\u001b[0m\u001b[0;34m.\u001b[0m\u001b[0mY\u001b[0m\u001b[0;34m)\u001b[0m\u001b[0;34m\u001b[0m\n",
      "\u001b[0;34m\u001b[0m        \u001b[0mself\u001b[0m\u001b[0;34m.\u001b[0m\u001b[0ma\u001b[0m \u001b[0;34m=\u001b[0m \u001b[0;34m[\u001b[0m\u001b[0mTensor\u001b[0m\u001b[0;34m(\u001b[0m\u001b[0;34m[\u001b[0m\u001b[0;36m0\u001b[0m\u001b[0;34m]\u001b[0m\u001b[0;34m*\u001b[0m\u001b[0mself\u001b[0m\u001b[0;34m.\u001b[0m\u001b[0mB\u001b[0m\u001b[0;34m)\u001b[0m\u001b[0;34m.\u001b[0m\u001b[0mreshape\u001b[0m\u001b[0;34m(\u001b[0m\u001b[0;34m-\u001b[0m\u001b[0;36m1\u001b[0m\u001b[0;34m,\u001b[0m\u001b[0;36m1\u001b[0m\u001b[0;34m)\u001b[0m\u001b[0;34m.\u001b[0m\u001b[0mpad\u001b[0m\u001b[0;34m(\u001b[0m\u001b[0;34m(\u001b[0m\u001b[0;34m(\u001b[0m\u001b[0;36m0\u001b[0m\u001b[0;34m,\u001b[0m\u001b[0;36m0\u001b[0m\u001b[0;34m)\u001b[0m\u001b[0;34m,\u001b[0m\u001b[0;34m(\u001b[0m\u001b[0;36m0\u001b[0m\u001b[0;34m,\u001b[0m\u001b[0mself\u001b[0m\u001b[0;34m.\u001b[0m\u001b[0mY\u001b[0m\u001b[0;34m-\u001b[0m\u001b[0;36m1\u001b[0m\u001b[0;34m)\u001b[0m\u001b[0;34m,\u001b[0m\u001b[0;34m)\u001b[0m\u001b[0;34m,\u001b[0m\u001b[0;34m-\u001b[0m\u001b[0minf\u001b[0m\u001b[0;34m)\u001b[0m\u001b[0;34m.\u001b[0m\u001b[0mrealize\u001b[0m\u001b[0;34m(\u001b[0m\u001b[0;34m)\u001b[0m\u001b[0;34m]\u001b[0m\u001b[0;34m\u001b[0m\n",
      "\u001b[0;34m\u001b[0m\u001b[0;34m\u001b[0m\n",
      "\u001b[0;34m\u001b[0m        \u001b[0;32mfor\u001b[0m \u001b[0mx\u001b[0m \u001b[0;32min\u001b[0m \u001b[0mrange\u001b[0m\u001b[0;34m(\u001b[0m\u001b[0;36m0\u001b[0m\u001b[0;34m,\u001b[0m\u001b[0mself\u001b[0m\u001b[0;34m.\u001b[0m\u001b[0mX\u001b[0m\u001b[0;34m-\u001b[0m\u001b[0;36m1\u001b[0m\u001b[0;34m)\u001b[0m\u001b[0;34m:\u001b[0m\u001b[0;34m\u001b[0m\n",
      "\u001b[0;34m\u001b[0m            \u001b[0mself\u001b[0m\u001b[0;34m.\u001b[0m\u001b[0ma\u001b[0m\u001b[0;34m.\u001b[0m\u001b[0mappend\u001b[0m\u001b[0;34m(\u001b[0m\u001b[0mlogsumexp\u001b[0m\u001b[0;34m(\u001b[0m\u001b[0;34m(\u001b[0m\u001b[0mself\u001b[0m\u001b[0;34m.\u001b[0m\u001b[0ma\u001b[0m\u001b[0;34m[\u001b[0m\u001b[0;34m-\u001b[0m\u001b[0;36m1\u001b[0m\u001b[0;34m]\u001b[0m \u001b[0;34m+\u001b[0m \u001b[0mself\u001b[0m\u001b[0;34m.\u001b[0m\u001b[0mskip\u001b[0m\u001b[0;34m[\u001b[0m\u001b[0;34m:\u001b[0m\u001b[0;34m,\u001b[0m\u001b[0mx\u001b[0m\u001b[0;34m,\u001b[0m\u001b[0;34m:\u001b[0m\u001b[0;34m]\u001b[0m\u001b[0;34m)\u001b[0m\u001b[0;34m.\u001b[0m\u001b[0mrealize\u001b[0m\u001b[0;34m(\u001b[0m\u001b[0;34m)\u001b[0m\u001b[0;34m,\u001b[0m \u001b[0;34m(\u001b[0m\u001b[0mself\u001b[0m\u001b[0;34m.\u001b[0m\u001b[0ma\u001b[0m\u001b[0;34m[\u001b[0m\u001b[0;34m-\u001b[0m\u001b[0;36m1\u001b[0m\u001b[0;34m]\u001b[0m\u001b[0;34m[\u001b[0m\u001b[0;34m:\u001b[0m\u001b[0;34m,\u001b[0m\u001b[0;34m:\u001b[0m\u001b[0;34m-\u001b[0m\u001b[0;36m1\u001b[0m\u001b[0;34m]\u001b[0m\u001b[0;34m.\u001b[0m\u001b[0mpad\u001b[0m\u001b[0;34m(\u001b[0m\u001b[0;34m(\u001b[0m\u001b[0;34m(\u001b[0m\u001b[0;36m0\u001b[0m\u001b[0;34m,\u001b[0m\u001b[0;36m0\u001b[0m\u001b[0;34m)\u001b[0m\u001b[0;34m,\u001b[0m\u001b[0;34m(\u001b[0m\u001b[0;36m1\u001b[0m\u001b[0;34m,\u001b[0m\u001b[0;36m0\u001b[0m\u001b[0;34m)\u001b[0m\u001b[0;34m,\u001b[0m\u001b[0;34m)\u001b[0m\u001b[0;34m,\u001b[0m\u001b[0;34m-\u001b[0m\u001b[0minf\u001b[0m\u001b[0;34m)\u001b[0m\u001b[0;34m.\u001b[0m\u001b[0mrealize\u001b[0m\u001b[0;34m(\u001b[0m\u001b[0;34m)\u001b[0m \u001b[0;34m+\u001b[0m \u001b[0mself\u001b[0m\u001b[0;34m.\u001b[0m\u001b[0mp\u001b[0m\u001b[0;34m[\u001b[0m\u001b[0;34m:\u001b[0m\u001b[0;34m,\u001b[0m\u001b[0mx\u001b[0m\u001b[0;34m,\u001b[0m\u001b[0;34m:\u001b[0m\u001b[0;34m-\u001b[0m\u001b[0;36m1\u001b[0m\u001b[0;34m]\u001b[0m\u001b[0;34m.\u001b[0m\u001b[0mpad\u001b[0m\u001b[0;34m(\u001b[0m\u001b[0;34m(\u001b[0m\u001b[0;34m(\u001b[0m\u001b[0;36m0\u001b[0m\u001b[0;34m,\u001b[0m\u001b[0;36m0\u001b[0m\u001b[0;34m)\u001b[0m\u001b[0;34m,\u001b[0m\u001b[0;34m(\u001b[0m\u001b[0;36m1\u001b[0m\u001b[0;34m,\u001b[0m\u001b[0;36m0\u001b[0m\u001b[0;34m)\u001b[0m\u001b[0;34m,\u001b[0m\u001b[0;34m)\u001b[0m\u001b[0;34m,\u001b[0m\u001b[0;34m-\u001b[0m\u001b[0minf\u001b[0m\u001b[0;34m)\u001b[0m\u001b[0;34m)\u001b[0m\u001b[0;34m.\u001b[0m\u001b[0mrealize\u001b[0m\u001b[0;34m(\u001b[0m\u001b[0;34m)\u001b[0m\u001b[0;34m)\u001b[0m\u001b[0;34m)\u001b[0m\u001b[0;34m\u001b[0m\n",
      "\u001b[0;34m\u001b[0m\u001b[0;34m\u001b[0m\n",
      "\u001b[0;34m\u001b[0m        \u001b[0;32mreturn\u001b[0m \u001b[0;34m(\u001b[0m\u001b[0;34m-\u001b[0m\u001b[0mself\u001b[0m\u001b[0;34m.\u001b[0m\u001b[0ma\u001b[0m\u001b[0;34m[\u001b[0m\u001b[0;34m-\u001b[0m\u001b[0;36m1\u001b[0m\u001b[0;34m]\u001b[0m\u001b[0;34m[\u001b[0m\u001b[0;34m:\u001b[0m\u001b[0;34m,\u001b[0m\u001b[0;34m-\u001b[0m\u001b[0;36m1\u001b[0m\u001b[0;34m]\u001b[0m \u001b[0;34m-\u001b[0m \u001b[0mself\u001b[0m\u001b[0;34m.\u001b[0m\u001b[0mskip\u001b[0m\u001b[0;34m[\u001b[0m\u001b[0;34m:\u001b[0m\u001b[0;34m,\u001b[0m\u001b[0;34m-\u001b[0m\u001b[0;36m1\u001b[0m\u001b[0;34m,\u001b[0m\u001b[0;34m-\u001b[0m\u001b[0;36m1\u001b[0m\u001b[0;34m]\u001b[0m\u001b[0;34m)\u001b[0m\u001b[0;34m.\u001b[0m\u001b[0msum\u001b[0m\u001b[0;34m(\u001b[0m\u001b[0;34m)\u001b[0m\u001b[0;34m.\u001b[0m\u001b[0mlazydata\u001b[0m\u001b[0;34m\u001b[0m\u001b[0;34m\u001b[0m\u001b[0m\n",
      "\u001b[0;31mFile:\u001b[0m      /var/folders/df/vb5h3qnn3fb06ph52d8rl36m0000gn/T/ipykernel_75154/4000757699.py\n",
      "\u001b[0;31mType:\u001b[0m      function"
     ]
    }
   ],
   "source": [
    "TransducerLoss.forward??"
   ]
  },
  {
   "cell_type": "code",
   "execution_count": 35,
   "metadata": {},
   "outputs": [
    {
     "data": {
      "text/plain": [
       "array([[1., 1.],\n",
       "       [1., 1.]], dtype=float32)"
      ]
     },
     "execution_count": 35,
     "metadata": {},
     "output_type": "execute_result"
    }
   ],
   "source": [
    "d = Tensor.ones(2,2, requires_grad = True)\n",
    "y = d.pad(((0,1),(0,1)))\n",
    "l = y.sum()\n",
    "l.backward()\n",
    "d.grad.numpy()"
   ]
  }
 ],
 "metadata": {
  "kernelspec": {
   "display_name": "develop",
   "language": "python",
   "name": "python3"
  },
  "language_info": {
   "codemirror_mode": {
    "name": "ipython",
    "version": 3
   },
   "file_extension": ".py",
   "mimetype": "text/x-python",
   "name": "python",
   "nbconvert_exporter": "python",
   "pygments_lexer": "ipython3",
   "version": "3.11.5"
  }
 },
 "nbformat": 4,
 "nbformat_minor": 2
}
