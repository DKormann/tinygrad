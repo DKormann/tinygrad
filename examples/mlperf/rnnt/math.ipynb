{
 "cells": [
  {
   "cell_type": "markdown",
   "metadata": {},
   "source": [
    "$\n",
    "\\frac{\\partial \\mathcal{L}}{\\partial Pr(y_{u+1}|t,u)} \\\\=\\\\\n",
    "\\frac{\\alpha(t,u)\\beta(t,u+1)}{Pr(y^*|x)} \\\\=\\\\\n",
    "\\frac{\\alpha(t,u)\\beta(t,u)}{Pr(y^*|x)} \\frac{\\beta(t,u+1)}{\\beta(t,u)} \\\\=\\\\\n",
    "\\frac{\\alpha(t,u)\\beta(t,u)}{Pr(y^*|x )} \\big(\\frac{\\beta(t+1,u)}{\\beta(t,u+1)} \\empty(t,u) +y_{u+1}(t,u)\\big)^{-1}\n",
    "$"
   ]
  },
  {
   "cell_type": "markdown",
   "metadata": {},
   "source": [
    "$\n",
    "\\frac{\\partial \\mathcal{L}}{\\partial Pr(\\empty|t,u)} =\n",
    "\\frac{\\alpha(t,u)\\beta(t+1,u)}{Pr(y^*|x)} =\n",
    "\\frac{\\alpha(t,u)\\beta(t,u)}{Pr(y^*|x)} \\big(\\empty(t,u) + \\frac{\\beta(t,u+1)}{\\beta(t+1,u)}y(t,u)\\big)^{-1}\n",
    "$"
   ]
  },
  {
   "cell_type": "markdown",
   "metadata": {},
   "source": [
    "$\\beta_n (t,u) \\equiv \\frac {\\beta(t,u)}{\\sum_{t,u=t',u'}\\beta(t',u')}$"
   ]
  },
  {
   "cell_type": "markdown",
   "metadata": {},
   "source": [
    "$\\frac{\\beta(t,u+1)}{\\beta(t+1,u)} = \\frac{\\beta_n(t,u+1)}{\\beta_n(t+1,u)}$"
   ]
  },
  {
   "cell_type": "markdown",
   "metadata": {},
   "source": [
    "$\n",
    "\\frac{\\alpha(t,u)\\beta(t,u)}{Pr(y^*|x)} \n",
    "= \\frac{\\alpha(t,u)\\beta(t,u)}{\\sum_{t+u=t'+u'}\\alpha(t',u')\\beta(t',u')}\n",
    "= \\frac{\\alpha_n(t,u)\\beta_n(t,u)}{\\sum_{t+u=t'+u'}\\alpha_n(t',u')\\beta_n(t',u')}\n",
    "$"
   ]
  },
  {
   "cell_type": "code",
   "execution_count": 73,
   "metadata": {},
   "outputs": [
    {
     "name": "stdout",
     "output_type": "stream",
     "text": [
      "\n",
      "\n",
      "(0, 0) \n",
      "\n",
      "(0, 1) (1, 0) \n",
      "\n",
      "(0, 2) (1, 1) (2, 0) \n",
      "\n",
      "       (1, 2) (2, 1) (3, 0) \n",
      "\n",
      "              (2, 2) (3, 1) (4, 0) \n",
      "\n",
      "                     (3, 2) (4, 1) \n",
      "\n",
      "                            (4, 2) \n",
      "\n"
     ]
    }
   ],
   "source": [
    "T,U=3,5\n",
    "for i in range(U+T):\n",
    "\n",
    "    for u in range ( max(0,i-T)):\n",
    "        print(end=\"       \")\n",
    "\n",
    "    for u in range ( max(0,i-T), min (i,U)):\n",
    "        u=i-u-1\n",
    "\n",
    "        print(str((u,u)).rjust(5),end=\" \")\n",
    "    print('\\n')\n"
   ]
  },
  {
   "cell_type": "code",
   "execution_count": 76,
   "metadata": {},
   "outputs": [],
   "source": [
    "import numpy as np"
   ]
  },
  {
   "cell_type": "code",
   "execution_count": 110,
   "metadata": {},
   "outputs": [
    {
     "name": "stdout",
     "output_type": "stream",
     "text": [
      "[0]\n",
      "[0]\n",
      "[1 0]\n",
      "[0 1]\n",
      "[2 1 0]\n",
      "[0 1 2]\n",
      "[3 2 1 0]\n",
      "[0 1 2 3]\n",
      "[3 2 1 0]\n",
      "[1 2 3 4]\n",
      "[3 2 1 0]\n",
      "[2 3 4 5]\n",
      "[3 2 1]\n",
      "[3 4 5]\n",
      "[3 2]\n",
      "[4 5]\n",
      "[3]\n",
      "[5]\n"
     ]
    }
   ],
   "source": [
    "\n",
    "T,U=4,6\n",
    "\n",
    "for i in range(U+T-1):\n",
    "    offset= max(0,i-T+1)\n",
    "    u=np.arange(offset,min(i+1,U))\n",
    "    t=i-u\n",
    "    print(str(t))\n",
    "    print(str(u))\n"
   ]
  },
  {
   "cell_type": "code",
   "execution_count": 108,
   "metadata": {},
   "outputs": [
    {
     "data": {
      "text/plain": [
       "array([0, 1, 2, 3, 4])"
      ]
     },
     "execution_count": 108,
     "metadata": {},
     "output_type": "execute_result"
    }
   ],
   "source": [
    "np.arange(10)[np.where(np.arange(10)<5)]"
   ]
  }
 ],
 "metadata": {
  "kernelspec": {
   "display_name": "develop",
   "language": "python",
   "name": "python3"
  },
  "language_info": {
   "codemirror_mode": {
    "name": "ipython",
    "version": 3
   },
   "file_extension": ".py",
   "mimetype": "text/x-python",
   "name": "python",
   "nbconvert_exporter": "python",
   "pygments_lexer": "ipython3",
   "version": "3.11.5"
  },
  "orig_nbformat": 4
 },
 "nbformat": 4,
 "nbformat_minor": 2
}
