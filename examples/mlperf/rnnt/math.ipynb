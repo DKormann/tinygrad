{
 "cells": [
  {
   "cell_type": "markdown",
   "metadata": {},
   "source": [
    "$\n",
    "\\frac{\\partial \\mathcal{L}}{\\partial Pr(y_{u+1}|t,u)} \\\\=\\\\\n",
    "\\frac{\\alpha(t,u)\\beta(t,u+1)}{Pr(y^*|x)} \\\\=\\\\\n",
    "\\frac{\\alpha(t,u)\\beta(t,u)}{Pr(y^*|x)} \\frac{\\beta(t,u+1)}{\\beta(t,u)} \\\\=\\\\\n",
    "\\frac{\\alpha(t,u)\\beta(t,u)}{Pr(y^*|x )} \\big(\\frac{\\beta(t+1,u)}{\\beta(t,u+1)} \\empty(t,u) +y(t,u)\\big)^{-1}\n",
    "$"
   ]
  },
  {
   "cell_type": "markdown",
   "metadata": {},
   "source": [
    "$\n",
    "\\frac{\\partial \\mathcal{L}}{\\partial Pr(\\empty|t,u)} \\\\=\\\\\n",
    "\\frac{\\alpha(t,u)\\beta(t+1,u)}{Pr(y^*|x)} \\\\=\\\\\n",
    "\\frac{\\alpha(t,u)\\beta(t,u)}{Pr(y^*|x)} \\big(\\empty(t,u) + \\frac{\\beta(t,u+1)}{\\beta(t+1,u)}y(t,u)\\big)^{-1}\n",
    "$"
   ]
  },
  {
   "cell_type": "markdown",
   "metadata": {},
   "source": [
    "$\\beta_n (t,u) \\equiv \\frac {\\beta(t,u)}{\\sum_{t,u=t',u'}\\beta(t',u')}$"
   ]
  },
  {
   "cell_type": "markdown",
   "metadata": {},
   "source": [
    "$\\frac{\\beta(t,u+1)}{\\beta(t+1,u)} = \\frac{\\beta_n(t,u+1)}{\\beta_n(t+1,u)}$"
   ]
  }
 ],
 "metadata": {
  "kernelspec": {
   "display_name": "develop",
   "language": "python",
   "name": "python3"
  },
  "language_info": {
   "codemirror_mode": {
    "name": "ipython",
    "version": 3
   },
   "file_extension": ".py",
   "mimetype": "text/x-python",
   "name": "python",
   "nbconvert_exporter": "python",
   "pygments_lexer": "ipython3",
   "version": "3.10.12"
  },
  "orig_nbformat": 4
 },
 "nbformat": 4,
 "nbformat_minor": 2
}
