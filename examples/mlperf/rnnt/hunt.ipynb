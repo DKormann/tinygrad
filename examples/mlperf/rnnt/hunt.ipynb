{
 "cells": [
  {
   "cell_type": "code",
   "execution_count": 1,
   "metadata": {},
   "outputs": [],
   "source": [
    "from tinygrad import Tensor\n",
    "from tinygrad.nn.optim import Adam"
   ]
  },
  {
   "cell_type": "code",
   "execution_count": 2,
   "metadata": {},
   "outputs": [],
   "source": [
    "d = 10\n",
    "W = Tensor.rand(10)\n",
    "W2 = Tensor.rand(10)\n",
    "\n",
    "opt = Adam([W,W2])\n",
    "X = Tensor.rand(10)\n",
    "\n",
    "def forward(X:Tensor):\n",
    "    x = X\n",
    "\n",
    "    for i in range(10):\n",
    "        x = x * W\n",
    "        x = x.sigmoid() + x * W2\n",
    "    \n",
    "    return x.realize()"
   ]
  }
 ],
 "metadata": {
  "kernelspec": {
   "display_name": "develop",
   "language": "python",
   "name": "python3"
  },
  "language_info": {
   "codemirror_mode": {
    "name": "ipython",
    "version": 3
   },
   "file_extension": ".py",
   "mimetype": "text/x-python",
   "name": "python",
   "nbconvert_exporter": "python",
   "pygments_lexer": "ipython3",
   "version": "3.11.5"
  }
 },
 "nbformat": 4,
 "nbformat_minor": 2
}
